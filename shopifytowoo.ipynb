{
 "cells": [
  {
   "cell_type": "code",
   "execution_count": 1,
   "id": "3f6385c0-108f-4395-a07a-35204bca15ee",
   "metadata": {},
   "outputs": [],
   "source": [
    "import pandas as pd\n",
    "import numpy as np"
   ]
  },
  {
   "cell_type": "markdown",
   "id": "dc2b9aad-3c6f-42a0-b2b0-f545f056d3ff",
   "metadata": {},
   "source": [
    "# Read File"
   ]
  },
  {
   "cell_type": "code",
   "execution_count": 2,
   "id": "7d1c7b54-fca4-4464-9151-6a2722950a11",
   "metadata": {},
   "outputs": [],
   "source": [
    "src_df = pd.read_csv('products_export_1 (1) - products_export_1.csv')\n",
    "tgt_df = pd.read_csv('wc-product-export-2-12-2023-1701456156762.csv')"
   ]
  },
  {
   "cell_type": "code",
   "execution_count": 3,
   "id": "fccb7a53-3365-49cd-b3af-1ed20243736c",
   "metadata": {},
   "outputs": [
    {
     "data": {
      "text/html": [
       "<div>\n",
       "<style scoped>\n",
       "    .dataframe tbody tr th:only-of-type {\n",
       "        vertical-align: middle;\n",
       "    }\n",
       "\n",
       "    .dataframe tbody tr th {\n",
       "        vertical-align: top;\n",
       "    }\n",
       "\n",
       "    .dataframe thead th {\n",
       "        text-align: right;\n",
       "    }\n",
       "</style>\n",
       "<table border=\"1\" class=\"dataframe\">\n",
       "  <thead>\n",
       "    <tr style=\"text-align: right;\">\n",
       "      <th></th>\n",
       "      <th>Handle</th>\n",
       "      <th>Title</th>\n",
       "      <th>Body (HTML)</th>\n",
       "      <th>Vendor</th>\n",
       "      <th>Product Category</th>\n",
       "      <th>Type</th>\n",
       "      <th>Tags</th>\n",
       "      <th>Published</th>\n",
       "      <th>Option1 Name</th>\n",
       "      <th>Option1 Value</th>\n",
       "      <th>...</th>\n",
       "      <th>Included / Eurozone</th>\n",
       "      <th>Price / Eurozone</th>\n",
       "      <th>Compare At Price / Eurozone</th>\n",
       "      <th>Included / Franch</th>\n",
       "      <th>Price / Franch</th>\n",
       "      <th>Compare At Price / Franch</th>\n",
       "      <th>Included / International</th>\n",
       "      <th>Price / International</th>\n",
       "      <th>Compare At Price / International</th>\n",
       "      <th>Status</th>\n",
       "    </tr>\n",
       "  </thead>\n",
       "  <tbody>\n",
       "    <tr>\n",
       "      <th>0</th>\n",
       "      <td>welby-three-seater-sofa-white-boucle-half-of-sofa</td>\n",
       "      <td>Welby Three Seater Sofa, White Boucle, Half Of...</td>\n",
       "      <td>&lt;div class=\"productdescription\"&gt;\\n&lt;table&gt;\\n&lt;tb...</td>\n",
       "      <td>Weilai Concept</td>\n",
       "      <td>NaN</td>\n",
       "      <td>NaN</td>\n",
       "      <td>beige, best three seater sofa, fbtt4_bundle-th...</td>\n",
       "      <td>True</td>\n",
       "      <td>Title</td>\n",
       "      <td>Default Title</td>\n",
       "      <td>...</td>\n",
       "      <td>True</td>\n",
       "      <td>NaN</td>\n",
       "      <td>NaN</td>\n",
       "      <td>True</td>\n",
       "      <td>NaN</td>\n",
       "      <td>NaN</td>\n",
       "      <td>True</td>\n",
       "      <td>NaN</td>\n",
       "      <td>NaN</td>\n",
       "      <td>active</td>\n",
       "    </tr>\n",
       "    <tr>\n",
       "      <th>1</th>\n",
       "      <td>welby-three-seater-sofa-white-boucle-half-of-sofa</td>\n",
       "      <td>NaN</td>\n",
       "      <td>NaN</td>\n",
       "      <td>NaN</td>\n",
       "      <td>NaN</td>\n",
       "      <td>NaN</td>\n",
       "      <td>NaN</td>\n",
       "      <td>NaN</td>\n",
       "      <td>NaN</td>\n",
       "      <td>NaN</td>\n",
       "      <td>...</td>\n",
       "      <td>NaN</td>\n",
       "      <td>NaN</td>\n",
       "      <td>NaN</td>\n",
       "      <td>NaN</td>\n",
       "      <td>NaN</td>\n",
       "      <td>NaN</td>\n",
       "      <td>NaN</td>\n",
       "      <td>NaN</td>\n",
       "      <td>NaN</td>\n",
       "      <td>NaN</td>\n",
       "    </tr>\n",
       "    <tr>\n",
       "      <th>2</th>\n",
       "      <td>welby-three-seater-sofa-white-boucle-half-of-sofa</td>\n",
       "      <td>NaN</td>\n",
       "      <td>NaN</td>\n",
       "      <td>NaN</td>\n",
       "      <td>NaN</td>\n",
       "      <td>NaN</td>\n",
       "      <td>NaN</td>\n",
       "      <td>NaN</td>\n",
       "      <td>NaN</td>\n",
       "      <td>NaN</td>\n",
       "      <td>...</td>\n",
       "      <td>NaN</td>\n",
       "      <td>NaN</td>\n",
       "      <td>NaN</td>\n",
       "      <td>NaN</td>\n",
       "      <td>NaN</td>\n",
       "      <td>NaN</td>\n",
       "      <td>NaN</td>\n",
       "      <td>NaN</td>\n",
       "      <td>NaN</td>\n",
       "      <td>NaN</td>\n",
       "    </tr>\n",
       "    <tr>\n",
       "      <th>3</th>\n",
       "      <td>welby-three-seater-sofa-white-boucle-half-of-sofa</td>\n",
       "      <td>NaN</td>\n",
       "      <td>NaN</td>\n",
       "      <td>NaN</td>\n",
       "      <td>NaN</td>\n",
       "      <td>NaN</td>\n",
       "      <td>NaN</td>\n",
       "      <td>NaN</td>\n",
       "      <td>NaN</td>\n",
       "      <td>NaN</td>\n",
       "      <td>...</td>\n",
       "      <td>NaN</td>\n",
       "      <td>NaN</td>\n",
       "      <td>NaN</td>\n",
       "      <td>NaN</td>\n",
       "      <td>NaN</td>\n",
       "      <td>NaN</td>\n",
       "      <td>NaN</td>\n",
       "      <td>NaN</td>\n",
       "      <td>NaN</td>\n",
       "      <td>NaN</td>\n",
       "    </tr>\n",
       "    <tr>\n",
       "      <th>4</th>\n",
       "      <td>welby-three-seater-sofa-white-boucle-half-of-sofa</td>\n",
       "      <td>NaN</td>\n",
       "      <td>NaN</td>\n",
       "      <td>NaN</td>\n",
       "      <td>NaN</td>\n",
       "      <td>NaN</td>\n",
       "      <td>NaN</td>\n",
       "      <td>NaN</td>\n",
       "      <td>NaN</td>\n",
       "      <td>NaN</td>\n",
       "      <td>...</td>\n",
       "      <td>NaN</td>\n",
       "      <td>NaN</td>\n",
       "      <td>NaN</td>\n",
       "      <td>NaN</td>\n",
       "      <td>NaN</td>\n",
       "      <td>NaN</td>\n",
       "      <td>NaN</td>\n",
       "      <td>NaN</td>\n",
       "      <td>NaN</td>\n",
       "      <td>NaN</td>\n",
       "    </tr>\n",
       "  </tbody>\n",
       "</table>\n",
       "<p>5 rows × 59 columns</p>\n",
       "</div>"
      ],
      "text/plain": [
       "                                              Handle  \\\n",
       "0  welby-three-seater-sofa-white-boucle-half-of-sofa   \n",
       "1  welby-three-seater-sofa-white-boucle-half-of-sofa   \n",
       "2  welby-three-seater-sofa-white-boucle-half-of-sofa   \n",
       "3  welby-three-seater-sofa-white-boucle-half-of-sofa   \n",
       "4  welby-three-seater-sofa-white-boucle-half-of-sofa   \n",
       "\n",
       "                                               Title  \\\n",
       "0  Welby Three Seater Sofa, White Boucle, Half Of...   \n",
       "1                                                NaN   \n",
       "2                                                NaN   \n",
       "3                                                NaN   \n",
       "4                                                NaN   \n",
       "\n",
       "                                         Body (HTML)          Vendor  \\\n",
       "0  <div class=\"productdescription\">\\n<table>\\n<tb...  Weilai Concept   \n",
       "1                                                NaN             NaN   \n",
       "2                                                NaN             NaN   \n",
       "3                                                NaN             NaN   \n",
       "4                                                NaN             NaN   \n",
       "\n",
       "  Product Category Type                                               Tags  \\\n",
       "0              NaN  NaN  beige, best three seater sofa, fbtt4_bundle-th...   \n",
       "1              NaN  NaN                                                NaN   \n",
       "2              NaN  NaN                                                NaN   \n",
       "3              NaN  NaN                                                NaN   \n",
       "4              NaN  NaN                                                NaN   \n",
       "\n",
       "  Published Option1 Name  Option1 Value  ... Included / Eurozone  \\\n",
       "0      True        Title  Default Title  ...                True   \n",
       "1       NaN          NaN            NaN  ...                 NaN   \n",
       "2       NaN          NaN            NaN  ...                 NaN   \n",
       "3       NaN          NaN            NaN  ...                 NaN   \n",
       "4       NaN          NaN            NaN  ...                 NaN   \n",
       "\n",
       "  Price / Eurozone Compare At Price / Eurozone Included / Franch  \\\n",
       "0              NaN                         NaN              True   \n",
       "1              NaN                         NaN               NaN   \n",
       "2              NaN                         NaN               NaN   \n",
       "3              NaN                         NaN               NaN   \n",
       "4              NaN                         NaN               NaN   \n",
       "\n",
       "  Price / Franch  Compare At Price / Franch Included / International  \\\n",
       "0            NaN                        NaN                     True   \n",
       "1            NaN                        NaN                      NaN   \n",
       "2            NaN                        NaN                      NaN   \n",
       "3            NaN                        NaN                      NaN   \n",
       "4            NaN                        NaN                      NaN   \n",
       "\n",
       "   Price / International Compare At Price / International  Status  \n",
       "0                    NaN                              NaN  active  \n",
       "1                    NaN                              NaN     NaN  \n",
       "2                    NaN                              NaN     NaN  \n",
       "3                    NaN                              NaN     NaN  \n",
       "4                    NaN                              NaN     NaN  \n",
       "\n",
       "[5 rows x 59 columns]"
      ]
     },
     "execution_count": 3,
     "metadata": {},
     "output_type": "execute_result"
    }
   ],
   "source": [
    "src_df.head()"
   ]
  },
  {
   "cell_type": "code",
   "execution_count": 4,
   "id": "8c88881b-506b-4558-b372-d359e08eba80",
   "metadata": {},
   "outputs": [
    {
     "data": {
      "text/html": [
       "<div>\n",
       "<style scoped>\n",
       "    .dataframe tbody tr th:only-of-type {\n",
       "        vertical-align: middle;\n",
       "    }\n",
       "\n",
       "    .dataframe tbody tr th {\n",
       "        vertical-align: top;\n",
       "    }\n",
       "\n",
       "    .dataframe thead th {\n",
       "        text-align: right;\n",
       "    }\n",
       "</style>\n",
       "<table border=\"1\" class=\"dataframe\">\n",
       "  <thead>\n",
       "    <tr style=\"text-align: right;\">\n",
       "      <th></th>\n",
       "      <th>ID</th>\n",
       "      <th>Type</th>\n",
       "      <th>SKU</th>\n",
       "      <th>Name</th>\n",
       "      <th>Published</th>\n",
       "      <th>Is featured?</th>\n",
       "      <th>Visibility in catalog</th>\n",
       "      <th>Short description</th>\n",
       "      <th>Description</th>\n",
       "      <th>Date sale price starts</th>\n",
       "      <th>...</th>\n",
       "      <th>Download expiry days</th>\n",
       "      <th>Parent</th>\n",
       "      <th>Grouped products</th>\n",
       "      <th>Upsells</th>\n",
       "      <th>Cross-sells</th>\n",
       "      <th>External URL</th>\n",
       "      <th>Button text</th>\n",
       "      <th>Position</th>\n",
       "      <th>Swatches Attributes</th>\n",
       "      <th>Meta: woostify_product_video_metabox</th>\n",
       "    </tr>\n",
       "  </thead>\n",
       "  <tbody>\n",
       "    <tr>\n",
       "      <th>0</th>\n",
       "      <td>75</td>\n",
       "      <td>simple</td>\n",
       "      <td>NOW-00372</td>\n",
       "      <td>NOW Foods, Vitamin D3, Khasiat Tinggi, 5.000 I...</td>\n",
       "      <td>1</td>\n",
       "      <td>0</td>\n",
       "      <td>visible</td>\n",
       "      <td>&lt;section class=\"column fluid product-descripti...</td>\n",
       "      <td>&lt;div class=\"col-xs-24 col-md-14\"&gt;\\r\\n&lt;div clas...</td>\n",
       "      <td>NaN</td>\n",
       "      <td>...</td>\n",
       "      <td>NaN</td>\n",
       "      <td>NaN</td>\n",
       "      <td>NaN</td>\n",
       "      <td>NaN</td>\n",
       "      <td>NaN</td>\n",
       "      <td>NaN</td>\n",
       "      <td>NaN</td>\n",
       "      <td>0</td>\n",
       "      <td>NaN</td>\n",
       "      <td>NaN</td>\n",
       "    </tr>\n",
       "    <tr>\n",
       "      <th>1</th>\n",
       "      <td>77</td>\n",
       "      <td>simple</td>\n",
       "      <td>NOW-00367</td>\n",
       "      <td>NOW Foods, Vitamin D3, Khasiat Tinggi, 50 mcg ...</td>\n",
       "      <td>1</td>\n",
       "      <td>0</td>\n",
       "      <td>visible</td>\n",
       "      <td>&lt;section class=\"column fluid product-descripti...</td>\n",
       "      <td>&lt;div class=\"inner-content\"&gt;\\r\\n&lt;div class=\"ite...</td>\n",
       "      <td>NaN</td>\n",
       "      <td>...</td>\n",
       "      <td>NaN</td>\n",
       "      <td>NaN</td>\n",
       "      <td>NaN</td>\n",
       "      <td>NOW-00372</td>\n",
       "      <td>NOW-00372</td>\n",
       "      <td>NaN</td>\n",
       "      <td>NaN</td>\n",
       "      <td>0</td>\n",
       "      <td>NaN</td>\n",
       "      <td>NaN</td>\n",
       "    </tr>\n",
       "  </tbody>\n",
       "</table>\n",
       "<p>2 rows × 41 columns</p>\n",
       "</div>"
      ],
      "text/plain": [
       "   ID    Type        SKU                                               Name  \\\n",
       "0  75  simple  NOW-00372  NOW Foods, Vitamin D3, Khasiat Tinggi, 5.000 I...   \n",
       "1  77  simple  NOW-00367  NOW Foods, Vitamin D3, Khasiat Tinggi, 50 mcg ...   \n",
       "\n",
       "   Published  Is featured? Visibility in catalog  \\\n",
       "0          1             0               visible   \n",
       "1          1             0               visible   \n",
       "\n",
       "                                   Short description  \\\n",
       "0  <section class=\"column fluid product-descripti...   \n",
       "1  <section class=\"column fluid product-descripti...   \n",
       "\n",
       "                                         Description  Date sale price starts  \\\n",
       "0  <div class=\"col-xs-24 col-md-14\">\\r\\n<div clas...                     NaN   \n",
       "1  <div class=\"inner-content\">\\r\\n<div class=\"ite...                     NaN   \n",
       "\n",
       "   ...  Download expiry days Parent Grouped products    Upsells  Cross-sells  \\\n",
       "0  ...                   NaN    NaN              NaN        NaN          NaN   \n",
       "1  ...                   NaN    NaN              NaN  NOW-00372    NOW-00372   \n",
       "\n",
       "   External URL Button text  Position  Swatches Attributes  \\\n",
       "0           NaN         NaN         0                  NaN   \n",
       "1           NaN         NaN         0                  NaN   \n",
       "\n",
       "   Meta: woostify_product_video_metabox  \n",
       "0                                   NaN  \n",
       "1                                   NaN  \n",
       "\n",
       "[2 rows x 41 columns]"
      ]
     },
     "execution_count": 4,
     "metadata": {},
     "output_type": "execute_result"
    }
   ],
   "source": [
    "tgt_df.head()"
   ]
  },
  {
   "cell_type": "markdown",
   "id": "764d4c8e-f64b-4bed-a634-c142bce4c8ab",
   "metadata": {},
   "source": [
    "# Filter main product"
   ]
  },
  {
   "cell_type": "code",
   "execution_count": 5,
   "id": "01646afd-34f0-4b29-b09a-380231728076",
   "metadata": {},
   "outputs": [],
   "source": [
    "src_product_var_df = src_df[src_df['Body (HTML)'].notnull()].reset_index(drop=True)"
   ]
  },
  {
   "cell_type": "code",
   "execution_count": 6,
   "id": "88a7672c-e5fd-4b18-b86d-523ea69ae15e",
   "metadata": {},
   "outputs": [
    {
     "data": {
      "text/html": [
       "<div>\n",
       "<style scoped>\n",
       "    .dataframe tbody tr th:only-of-type {\n",
       "        vertical-align: middle;\n",
       "    }\n",
       "\n",
       "    .dataframe tbody tr th {\n",
       "        vertical-align: top;\n",
       "    }\n",
       "\n",
       "    .dataframe thead th {\n",
       "        text-align: right;\n",
       "    }\n",
       "</style>\n",
       "<table border=\"1\" class=\"dataframe\">\n",
       "  <thead>\n",
       "    <tr style=\"text-align: right;\">\n",
       "      <th></th>\n",
       "      <th>Handle</th>\n",
       "      <th>Title</th>\n",
       "      <th>Body (HTML)</th>\n",
       "      <th>Vendor</th>\n",
       "      <th>Product Category</th>\n",
       "      <th>Type</th>\n",
       "      <th>Tags</th>\n",
       "      <th>Published</th>\n",
       "      <th>Option1 Name</th>\n",
       "      <th>Option1 Value</th>\n",
       "      <th>...</th>\n",
       "      <th>Included / Eurozone</th>\n",
       "      <th>Price / Eurozone</th>\n",
       "      <th>Compare At Price / Eurozone</th>\n",
       "      <th>Included / Franch</th>\n",
       "      <th>Price / Franch</th>\n",
       "      <th>Compare At Price / Franch</th>\n",
       "      <th>Included / International</th>\n",
       "      <th>Price / International</th>\n",
       "      <th>Compare At Price / International</th>\n",
       "      <th>Status</th>\n",
       "    </tr>\n",
       "  </thead>\n",
       "  <tbody>\n",
       "    <tr>\n",
       "      <th>0</th>\n",
       "      <td>welby-three-seater-sofa-white-boucle-half-of-sofa</td>\n",
       "      <td>Welby Three Seater Sofa, White Boucle, Half Of...</td>\n",
       "      <td>&lt;div class=\"productdescription\"&gt;\\n&lt;table&gt;\\n&lt;tb...</td>\n",
       "      <td>Weilai Concept</td>\n",
       "      <td>NaN</td>\n",
       "      <td>NaN</td>\n",
       "      <td>beige, best three seater sofa, fbtt4_bundle-th...</td>\n",
       "      <td>True</td>\n",
       "      <td>Title</td>\n",
       "      <td>Default Title</td>\n",
       "      <td>...</td>\n",
       "      <td>True</td>\n",
       "      <td>NaN</td>\n",
       "      <td>NaN</td>\n",
       "      <td>True</td>\n",
       "      <td>NaN</td>\n",
       "      <td>NaN</td>\n",
       "      <td>True</td>\n",
       "      <td>NaN</td>\n",
       "      <td>NaN</td>\n",
       "      <td>active</td>\n",
       "    </tr>\n",
       "    <tr>\n",
       "      <th>1</th>\n",
       "      <td>jarrod-three-seater-corner-sofa-300cm-right-ha...</td>\n",
       "      <td>Jarrod Three Seater Corner Sofa, White, 300cm ...</td>\n",
       "      <td>&lt;div class=\"productdescription\"&gt;\\n&lt;table&gt;\\n&lt;tb...</td>\n",
       "      <td>Weilai Concept</td>\n",
       "      <td>NaN</td>\n",
       "      <td>NaN</td>\n",
       "      <td>blue, Grey, white</td>\n",
       "      <td>True</td>\n",
       "      <td>Color &amp; Size</td>\n",
       "      <td>White / 300cm Right Hand Facing</td>\n",
       "      <td>...</td>\n",
       "      <td>True</td>\n",
       "      <td>NaN</td>\n",
       "      <td>NaN</td>\n",
       "      <td>True</td>\n",
       "      <td>NaN</td>\n",
       "      <td>NaN</td>\n",
       "      <td>True</td>\n",
       "      <td>NaN</td>\n",
       "      <td>NaN</td>\n",
       "      <td>active</td>\n",
       "    </tr>\n",
       "    <tr>\n",
       "      <th>2</th>\n",
       "      <td>piper-sideboard-wood</td>\n",
       "      <td>Piper Shoe Storage, Wood</td>\n",
       "      <td>&lt;div class=\"productdescription\"&gt;\\n&lt;table&gt;\\n&lt;tb...</td>\n",
       "      <td>Weilai Concept</td>\n",
       "      <td>NaN</td>\n",
       "      <td>NaN</td>\n",
       "      <td>NaN</td>\n",
       "      <td>True</td>\n",
       "      <td>Size</td>\n",
       "      <td>82cm</td>\n",
       "      <td>...</td>\n",
       "      <td>True</td>\n",
       "      <td>NaN</td>\n",
       "      <td>NaN</td>\n",
       "      <td>True</td>\n",
       "      <td>NaN</td>\n",
       "      <td>NaN</td>\n",
       "      <td>True</td>\n",
       "      <td>NaN</td>\n",
       "      <td>NaN</td>\n",
       "      <td>active</td>\n",
       "    </tr>\n",
       "    <tr>\n",
       "      <th>3</th>\n",
       "      <td>mila-sideboard-white</td>\n",
       "      <td>Mila Shoe Storage, White</td>\n",
       "      <td>&lt;div class=\"productdescription\"&gt;\\n&lt;table&gt;\\n&lt;tb...</td>\n",
       "      <td>Weilai Concept</td>\n",
       "      <td>NaN</td>\n",
       "      <td>NaN</td>\n",
       "      <td>NaN</td>\n",
       "      <td>True</td>\n",
       "      <td>Size</td>\n",
       "      <td>90cm</td>\n",
       "      <td>...</td>\n",
       "      <td>True</td>\n",
       "      <td>NaN</td>\n",
       "      <td>NaN</td>\n",
       "      <td>True</td>\n",
       "      <td>NaN</td>\n",
       "      <td>NaN</td>\n",
       "      <td>True</td>\n",
       "      <td>NaN</td>\n",
       "      <td>NaN</td>\n",
       "      <td>active</td>\n",
       "    </tr>\n",
       "    <tr>\n",
       "      <th>4</th>\n",
       "      <td>camila-sideboard-black</td>\n",
       "      <td>Camila Shoe Storage, Black</td>\n",
       "      <td>&lt;div class=\"productdescription\"&gt;\\n&lt;table&gt;\\n&lt;tb...</td>\n",
       "      <td>Weilai Concept</td>\n",
       "      <td>NaN</td>\n",
       "      <td>NaN</td>\n",
       "      <td>NaN</td>\n",
       "      <td>True</td>\n",
       "      <td>Size</td>\n",
       "      <td>80cm</td>\n",
       "      <td>...</td>\n",
       "      <td>True</td>\n",
       "      <td>NaN</td>\n",
       "      <td>NaN</td>\n",
       "      <td>True</td>\n",
       "      <td>NaN</td>\n",
       "      <td>NaN</td>\n",
       "      <td>True</td>\n",
       "      <td>NaN</td>\n",
       "      <td>NaN</td>\n",
       "      <td>active</td>\n",
       "    </tr>\n",
       "  </tbody>\n",
       "</table>\n",
       "<p>5 rows × 59 columns</p>\n",
       "</div>"
      ],
      "text/plain": [
       "                                              Handle  \\\n",
       "0  welby-three-seater-sofa-white-boucle-half-of-sofa   \n",
       "1  jarrod-three-seater-corner-sofa-300cm-right-ha...   \n",
       "2                               piper-sideboard-wood   \n",
       "3                               mila-sideboard-white   \n",
       "4                             camila-sideboard-black   \n",
       "\n",
       "                                               Title  \\\n",
       "0  Welby Three Seater Sofa, White Boucle, Half Of...   \n",
       "1  Jarrod Three Seater Corner Sofa, White, 300cm ...   \n",
       "2                           Piper Shoe Storage, Wood   \n",
       "3                           Mila Shoe Storage, White   \n",
       "4                         Camila Shoe Storage, Black   \n",
       "\n",
       "                                         Body (HTML)          Vendor  \\\n",
       "0  <div class=\"productdescription\">\\n<table>\\n<tb...  Weilai Concept   \n",
       "1  <div class=\"productdescription\">\\n<table>\\n<tb...  Weilai Concept   \n",
       "2  <div class=\"productdescription\">\\n<table>\\n<tb...  Weilai Concept   \n",
       "3  <div class=\"productdescription\">\\n<table>\\n<tb...  Weilai Concept   \n",
       "4  <div class=\"productdescription\">\\n<table>\\n<tb...  Weilai Concept   \n",
       "\n",
       "  Product Category Type                                               Tags  \\\n",
       "0              NaN  NaN  beige, best three seater sofa, fbtt4_bundle-th...   \n",
       "1              NaN  NaN                                  blue, Grey, white   \n",
       "2              NaN  NaN                                                NaN   \n",
       "3              NaN  NaN                                                NaN   \n",
       "4              NaN  NaN                                                NaN   \n",
       "\n",
       "  Published  Option1 Name                    Option1 Value  ...  \\\n",
       "0      True         Title                    Default Title  ...   \n",
       "1      True  Color & Size  White / 300cm Right Hand Facing  ...   \n",
       "2      True          Size                             82cm  ...   \n",
       "3      True          Size                             90cm  ...   \n",
       "4      True          Size                             80cm  ...   \n",
       "\n",
       "  Included / Eurozone Price / Eurozone Compare At Price / Eurozone  \\\n",
       "0                True              NaN                         NaN   \n",
       "1                True              NaN                         NaN   \n",
       "2                True              NaN                         NaN   \n",
       "3                True              NaN                         NaN   \n",
       "4                True              NaN                         NaN   \n",
       "\n",
       "  Included / Franch Price / Franch  Compare At Price / Franch  \\\n",
       "0              True            NaN                        NaN   \n",
       "1              True            NaN                        NaN   \n",
       "2              True            NaN                        NaN   \n",
       "3              True            NaN                        NaN   \n",
       "4              True            NaN                        NaN   \n",
       "\n",
       "  Included / International  Price / International  \\\n",
       "0                     True                    NaN   \n",
       "1                     True                    NaN   \n",
       "2                     True                    NaN   \n",
       "3                     True                    NaN   \n",
       "4                     True                    NaN   \n",
       "\n",
       "  Compare At Price / International  Status  \n",
       "0                              NaN  active  \n",
       "1                              NaN  active  \n",
       "2                              NaN  active  \n",
       "3                              NaN  active  \n",
       "4                              NaN  active  \n",
       "\n",
       "[5 rows x 59 columns]"
      ]
     },
     "execution_count": 6,
     "metadata": {},
     "output_type": "execute_result"
    }
   ],
   "source": [
    "src_product_var_df.head()"
   ]
  },
  {
   "cell_type": "code",
   "execution_count": 7,
   "id": "88abc1d6-fca6-4dcf-8bcd-bbe2716edd7f",
   "metadata": {},
   "outputs": [
    {
     "data": {
      "text/plain": [
       "Index(['Handle', 'Title', 'Body (HTML)', 'Vendor', 'Product Category', 'Type',\n",
       "       'Tags', 'Published', 'Option1 Name', 'Option1 Value', 'Option2 Name',\n",
       "       'Option2 Value', 'Option3 Name', 'Option3 Value', 'Variant SKU',\n",
       "       'Variant Grams', 'Variant Inventory Tracker', 'Variant Inventory Qty',\n",
       "       'Variant Inventory Policy', 'Variant Fulfillment Service',\n",
       "       'Variant Price', 'Variant Compare At Price',\n",
       "       'Variant Requires Shipping', 'Variant Taxable', 'Variant Barcode',\n",
       "       'Image Src', 'Image Position', 'Image Alt Text', 'Gift Card',\n",
       "       'SEO Title', 'SEO Description',\n",
       "       'Google Shopping / Google Product Category', 'Google Shopping / Gender',\n",
       "       'Google Shopping / Age Group', 'Google Shopping / MPN',\n",
       "       'Google Shopping / Condition', 'Google Shopping / Custom Product',\n",
       "       'Google Shopping / Custom Label 0', 'Google Shopping / Custom Label 1',\n",
       "       'Google Shopping / Custom Label 2', 'Google Shopping / Custom Label 3',\n",
       "       'Google Shopping / Custom Label 4', 'Variant Image',\n",
       "       'Variant Weight Unit', 'Variant Tax Code', 'Cost per item',\n",
       "       'Included / United Kingdom', 'Price / United Kingdom',\n",
       "       'Compare At Price / United Kingdom', 'Included / Eurozone',\n",
       "       'Price / Eurozone', 'Compare At Price / Eurozone', 'Included / Franch',\n",
       "       'Price / Franch', 'Compare At Price / Franch',\n",
       "       'Included / International', 'Price / International',\n",
       "       'Compare At Price / International', 'Status'],\n",
       "      dtype='object')"
      ]
     },
     "execution_count": 7,
     "metadata": {},
     "output_type": "execute_result"
    }
   ],
   "source": [
    "src_product_var_df.columns"
   ]
  },
  {
   "cell_type": "code",
   "execution_count": 8,
   "id": "96d63dfe-5688-41ca-9206-8e010c5d95fe",
   "metadata": {},
   "outputs": [
    {
     "data": {
      "text/html": [
       "<div>\n",
       "<style scoped>\n",
       "    .dataframe tbody tr th:only-of-type {\n",
       "        vertical-align: middle;\n",
       "    }\n",
       "\n",
       "    .dataframe tbody tr th {\n",
       "        vertical-align: top;\n",
       "    }\n",
       "\n",
       "    .dataframe thead th {\n",
       "        text-align: right;\n",
       "    }\n",
       "</style>\n",
       "<table border=\"1\" class=\"dataframe\">\n",
       "  <thead>\n",
       "    <tr style=\"text-align: right;\">\n",
       "      <th></th>\n",
       "      <th>Handle</th>\n",
       "      <th>Option1 Name</th>\n",
       "    </tr>\n",
       "  </thead>\n",
       "  <tbody>\n",
       "    <tr>\n",
       "      <th>0</th>\n",
       "      <td>welby-three-seater-sofa-white-boucle-half-of-sofa</td>\n",
       "      <td>Title</td>\n",
       "    </tr>\n",
       "    <tr>\n",
       "      <th>1</th>\n",
       "      <td>jarrod-three-seater-corner-sofa-300cm-right-ha...</td>\n",
       "      <td>Color &amp; Size</td>\n",
       "    </tr>\n",
       "    <tr>\n",
       "      <th>2</th>\n",
       "      <td>piper-sideboard-wood</td>\n",
       "      <td>Size</td>\n",
       "    </tr>\n",
       "    <tr>\n",
       "      <th>3</th>\n",
       "      <td>mila-sideboard-white</td>\n",
       "      <td>Size</td>\n",
       "    </tr>\n",
       "    <tr>\n",
       "      <th>4</th>\n",
       "      <td>camila-sideboard-black</td>\n",
       "      <td>Size</td>\n",
       "    </tr>\n",
       "    <tr>\n",
       "      <th>...</th>\n",
       "      <td>...</td>\n",
       "      <td>...</td>\n",
       "    </tr>\n",
       "    <tr>\n",
       "      <th>1286</th>\n",
       "      <td>tandy-dressing-table-green-white-black-and-gol...</td>\n",
       "      <td>Color</td>\n",
       "    </tr>\n",
       "    <tr>\n",
       "      <th>1287</th>\n",
       "      <td>pet-bowl-tray-pink-or-blue</td>\n",
       "      <td>Color</td>\n",
       "    </tr>\n",
       "    <tr>\n",
       "      <th>1288</th>\n",
       "      <td>j51-bar-set</td>\n",
       "      <td>Title</td>\n",
       "    </tr>\n",
       "    <tr>\n",
       "      <th>1289</th>\n",
       "      <td>accordion-double-bed</td>\n",
       "      <td>Width</td>\n",
       "    </tr>\n",
       "    <tr>\n",
       "      <th>1290</th>\n",
       "      <td>accordion-single-bed</td>\n",
       "      <td>Width</td>\n",
       "    </tr>\n",
       "  </tbody>\n",
       "</table>\n",
       "<p>1291 rows × 2 columns</p>\n",
       "</div>"
      ],
      "text/plain": [
       "                                                 Handle  Option1 Name\n",
       "0     welby-three-seater-sofa-white-boucle-half-of-sofa         Title\n",
       "1     jarrod-three-seater-corner-sofa-300cm-right-ha...  Color & Size\n",
       "2                                  piper-sideboard-wood          Size\n",
       "3                                  mila-sideboard-white          Size\n",
       "4                                camila-sideboard-black          Size\n",
       "...                                                 ...           ...\n",
       "1286  tandy-dressing-table-green-white-black-and-gol...         Color\n",
       "1287                         pet-bowl-tray-pink-or-blue         Color\n",
       "1288                                        j51-bar-set         Title\n",
       "1289                               accordion-double-bed         Width\n",
       "1290                               accordion-single-bed         Width\n",
       "\n",
       "[1291 rows x 2 columns]"
      ]
     },
     "execution_count": 8,
     "metadata": {},
     "output_type": "execute_result"
    }
   ],
   "source": [
    "src_product_var_df[['Handle', 'Option1 Name']]"
   ]
  },
  {
   "cell_type": "code",
   "execution_count": 9,
   "id": "c06f0818-e9a8-4c12-9ac9-ebc5937656e2",
   "metadata": {},
   "outputs": [
    {
     "name": "stdout",
     "output_type": "stream",
     "text": [
      "<class 'pandas.core.frame.DataFrame'>\n",
      "RangeIndex: 2 entries, 0 to 1\n",
      "Data columns (total 41 columns):\n",
      " #   Column                                Non-Null Count  Dtype  \n",
      "---  ------                                --------------  -----  \n",
      " 0   ID                                    2 non-null      int64  \n",
      " 1   Type                                  2 non-null      object \n",
      " 2   SKU                                   2 non-null      object \n",
      " 3   Name                                  2 non-null      object \n",
      " 4   Published                             2 non-null      int64  \n",
      " 5   Is featured?                          2 non-null      int64  \n",
      " 6   Visibility in catalog                 2 non-null      object \n",
      " 7   Short description                     2 non-null      object \n",
      " 8   Description                           2 non-null      object \n",
      " 9   Date sale price starts                0 non-null      float64\n",
      " 10  Date sale price ends                  0 non-null      float64\n",
      " 11  Tax status                            2 non-null      object \n",
      " 12  Tax class                             2 non-null      object \n",
      " 13  In stock?                             2 non-null      int64  \n",
      " 14  Stock                                 2 non-null      int64  \n",
      " 15  Low stock amount                      2 non-null      int64  \n",
      " 16  Backorders allowed?                   2 non-null      object \n",
      " 17  Sold individually?                    2 non-null      int64  \n",
      " 18  Weight (g)                            0 non-null      float64\n",
      " 19  Length (cm)                           0 non-null      float64\n",
      " 20  Width (cm)                            0 non-null      float64\n",
      " 21  Height (cm)                           0 non-null      float64\n",
      " 22  Allow customer reviews?               2 non-null      int64  \n",
      " 23  Purchase note                         0 non-null      float64\n",
      " 24  Sale price                            2 non-null      int64  \n",
      " 25  Regular price                         2 non-null      int64  \n",
      " 26  Categories                            2 non-null      object \n",
      " 27  Tags                                  2 non-null      object \n",
      " 28  Shipping class                        2 non-null      object \n",
      " 29  Images                                2 non-null      object \n",
      " 30  Download limit                        0 non-null      float64\n",
      " 31  Download expiry days                  0 non-null      float64\n",
      " 32  Parent                                0 non-null      float64\n",
      " 33  Grouped products                      0 non-null      float64\n",
      " 34  Upsells                               1 non-null      object \n",
      " 35  Cross-sells                           1 non-null      object \n",
      " 36  External URL                          0 non-null      float64\n",
      " 37  Button text                           0 non-null      float64\n",
      " 38  Position                              2 non-null      int64  \n",
      " 39  Swatches Attributes                   0 non-null      float64\n",
      " 40  Meta: woostify_product_video_metabox  0 non-null      float64\n",
      "dtypes: float64(15), int64(11), object(15)\n",
      "memory usage: 788.0+ bytes\n"
     ]
    }
   ],
   "source": [
    "tgt_df.info()"
   ]
  },
  {
   "cell_type": "markdown",
   "id": "996d1084-22b9-4967-9ce9-ebc7cfb68596",
   "metadata": {},
   "source": [
    "# Filter Variation"
   ]
  },
  {
   "cell_type": "code",
   "execution_count": 10,
   "id": "66979525-f436-4da0-aeff-1ebe84f3a99f",
   "metadata": {},
   "outputs": [],
   "source": [
    "src_product_variation_df = src_df[(src_df['Body (HTML)'].isnull() & src_df['Option1 Value'].notnull())].reset_index(drop=True)"
   ]
  },
  {
   "cell_type": "code",
   "execution_count": 11,
   "id": "cca488ea-a2db-4cff-96bd-0a692cb18541",
   "metadata": {},
   "outputs": [
    {
     "data": {
      "text/html": [
       "<div>\n",
       "<style scoped>\n",
       "    .dataframe tbody tr th:only-of-type {\n",
       "        vertical-align: middle;\n",
       "    }\n",
       "\n",
       "    .dataframe tbody tr th {\n",
       "        vertical-align: top;\n",
       "    }\n",
       "\n",
       "    .dataframe thead th {\n",
       "        text-align: right;\n",
       "    }\n",
       "</style>\n",
       "<table border=\"1\" class=\"dataframe\">\n",
       "  <thead>\n",
       "    <tr style=\"text-align: right;\">\n",
       "      <th></th>\n",
       "      <th>Handle</th>\n",
       "      <th>Option1 Value</th>\n",
       "    </tr>\n",
       "  </thead>\n",
       "  <tbody>\n",
       "    <tr>\n",
       "      <th>0</th>\n",
       "      <td>piper-sideboard-wood</td>\n",
       "      <td>100cm</td>\n",
       "    </tr>\n",
       "    <tr>\n",
       "      <th>1</th>\n",
       "      <td>piper-sideboard-wood</td>\n",
       "      <td>120cm</td>\n",
       "    </tr>\n",
       "    <tr>\n",
       "      <th>2</th>\n",
       "      <td>piper-sideboard-wood</td>\n",
       "      <td>140cm</td>\n",
       "    </tr>\n",
       "    <tr>\n",
       "      <th>3</th>\n",
       "      <td>piper-sideboard-wood</td>\n",
       "      <td>158cm</td>\n",
       "    </tr>\n",
       "    <tr>\n",
       "      <th>4</th>\n",
       "      <td>mila-sideboard-white</td>\n",
       "      <td>120cm</td>\n",
       "    </tr>\n",
       "    <tr>\n",
       "      <th>...</th>\n",
       "      <td>...</td>\n",
       "      <td>...</td>\n",
       "    </tr>\n",
       "    <tr>\n",
       "      <th>4821</th>\n",
       "      <td>tandy-dressing-table-green-white-black-and-gol...</td>\n",
       "      <td>Black</td>\n",
       "    </tr>\n",
       "    <tr>\n",
       "      <th>4822</th>\n",
       "      <td>tandy-dressing-table-green-white-black-and-gol...</td>\n",
       "      <td>Black</td>\n",
       "    </tr>\n",
       "    <tr>\n",
       "      <th>4823</th>\n",
       "      <td>pet-bowl-tray-pink-or-blue</td>\n",
       "      <td>Blue</td>\n",
       "    </tr>\n",
       "    <tr>\n",
       "      <th>4824</th>\n",
       "      <td>accordion-double-bed</td>\n",
       "      <td>150cm</td>\n",
       "    </tr>\n",
       "    <tr>\n",
       "      <th>4825</th>\n",
       "      <td>accordion-single-bed</td>\n",
       "      <td>90cm</td>\n",
       "    </tr>\n",
       "  </tbody>\n",
       "</table>\n",
       "<p>4826 rows × 2 columns</p>\n",
       "</div>"
      ],
      "text/plain": [
       "                                                 Handle Option1 Value\n",
       "0                                  piper-sideboard-wood         100cm\n",
       "1                                  piper-sideboard-wood         120cm\n",
       "2                                  piper-sideboard-wood         140cm\n",
       "3                                  piper-sideboard-wood         158cm\n",
       "4                                  mila-sideboard-white         120cm\n",
       "...                                                 ...           ...\n",
       "4821  tandy-dressing-table-green-white-black-and-gol...         Black\n",
       "4822  tandy-dressing-table-green-white-black-and-gol...         Black\n",
       "4823                         pet-bowl-tray-pink-or-blue          Blue\n",
       "4824                               accordion-double-bed         150cm\n",
       "4825                               accordion-single-bed          90cm\n",
       "\n",
       "[4826 rows x 2 columns]"
      ]
     },
     "execution_count": 11,
     "metadata": {},
     "output_type": "execute_result"
    }
   ],
   "source": [
    "src_product_variation_df[['Handle', 'Option1 Value']]"
   ]
  },
  {
   "cell_type": "code",
   "execution_count": 12,
   "id": "439b715b-9c55-4191-b6e8-a75afe36b6dc",
   "metadata": {},
   "outputs": [
    {
     "name": "stdout",
     "output_type": "stream",
     "text": [
      "<class 'pandas.core.frame.DataFrame'>\n",
      "RangeIndex: 4826 entries, 0 to 4825\n",
      "Data columns (total 59 columns):\n",
      " #   Column                                     Non-Null Count  Dtype  \n",
      "---  ------                                     --------------  -----  \n",
      " 0   Handle                                     4826 non-null   object \n",
      " 1   Title                                      1 non-null      object \n",
      " 2   Body (HTML)                                0 non-null      object \n",
      " 3   Vendor                                     1 non-null      object \n",
      " 4   Product Category                           0 non-null      object \n",
      " 5   Type                                       0 non-null      object \n",
      " 6   Tags                                       0 non-null      object \n",
      " 7   Published                                  1 non-null      object \n",
      " 8   Option1 Name                               1 non-null      object \n",
      " 9   Option1 Value                              4826 non-null   object \n",
      " 10  Option2 Name                               0 non-null      object \n",
      " 11  Option2 Value                              3418 non-null   object \n",
      " 12  Option3 Name                               0 non-null      object \n",
      " 13  Option3 Value                              874 non-null    object \n",
      " 14  Variant SKU                                0 non-null      object \n",
      " 15  Variant Grams                              4826 non-null   float64\n",
      " 16  Variant Inventory Tracker                  4826 non-null   object \n",
      " 17  Variant Inventory Qty                      4826 non-null   float64\n",
      " 18  Variant Inventory Policy                   4826 non-null   object \n",
      " 19  Variant Fulfillment Service                4826 non-null   object \n",
      " 20  Variant Price                              4826 non-null   float64\n",
      " 21  Variant Compare At Price                   570 non-null    float64\n",
      " 22  Variant Requires Shipping                  4826 non-null   object \n",
      " 23  Variant Taxable                            4826 non-null   object \n",
      " 24  Variant Barcode                            0 non-null      float64\n",
      " 25  Image Src                                  2976 non-null   object \n",
      " 26  Image Position                             2976 non-null   float64\n",
      " 27  Image Alt Text                             2843 non-null   object \n",
      " 28  Gift Card                                  1 non-null      object \n",
      " 29  SEO Title                                  0 non-null      object \n",
      " 30  SEO Description                            0 non-null      object \n",
      " 31  Google Shopping / Google Product Category  0 non-null      object \n",
      " 32  Google Shopping / Gender                   0 non-null      object \n",
      " 33  Google Shopping / Age Group                0 non-null      object \n",
      " 34  Google Shopping / MPN                      0 non-null      float64\n",
      " 35  Google Shopping / Condition                0 non-null      object \n",
      " 36  Google Shopping / Custom Product           0 non-null      object \n",
      " 37  Google Shopping / Custom Label 0           0 non-null      float64\n",
      " 38  Google Shopping / Custom Label 1           0 non-null      float64\n",
      " 39  Google Shopping / Custom Label 2           0 non-null      float64\n",
      " 40  Google Shopping / Custom Label 3           0 non-null      float64\n",
      " 41  Google Shopping / Custom Label 4           0 non-null      float64\n",
      " 42  Variant Image                              1081 non-null   object \n",
      " 43  Variant Weight Unit                        4826 non-null   object \n",
      " 44  Variant Tax Code                           0 non-null      float64\n",
      " 45  Cost per item                              0 non-null      float64\n",
      " 46  Included / United Kingdom                  1 non-null      object \n",
      " 47  Price / United Kingdom                     0 non-null      float64\n",
      " 48  Compare At Price / United Kingdom          0 non-null      float64\n",
      " 49  Included / Eurozone                        1 non-null      object \n",
      " 50  Price / Eurozone                           0 non-null      float64\n",
      " 51  Compare At Price / Eurozone                0 non-null      float64\n",
      " 52  Included / Franch                          1 non-null      object \n",
      " 53  Price / Franch                             0 non-null      float64\n",
      " 54  Compare At Price / Franch                  0 non-null      float64\n",
      " 55  Included / International                   1 non-null      object \n",
      " 56  Price / International                      0 non-null      float64\n",
      " 57  Compare At Price / International           0 non-null      float64\n",
      " 58  Status                                     1 non-null      object \n",
      "dtypes: float64(22), object(37)\n",
      "memory usage: 2.2+ MB\n"
     ]
    }
   ],
   "source": [
    "src_product_variation_df.info()"
   ]
  },
  {
   "cell_type": "markdown",
   "id": "6079fee1-b79e-447d-8869-3e2d22b1a270",
   "metadata": {},
   "source": [
    "# Transform main product from shopify to woocommerce template"
   ]
  },
  {
   "cell_type": "markdown",
   "id": "ef6c1de2-21c9-4310-a6c2-362d7d0897b1",
   "metadata": {
    "tags": []
   },
   "source": [
    "# Image Table"
   ]
  },
  {
   "cell_type": "code",
   "execution_count": 13,
   "id": "d22abc8f-34da-43aa-a806-76ffc02ff557",
   "metadata": {},
   "outputs": [],
   "source": [
    "src_image_df = src_df[src_df['Image Src'].notnull()][['Handle','Image Src']]"
   ]
  },
  {
   "cell_type": "code",
   "execution_count": 14,
   "id": "8eef06b2-3caa-401f-8129-a9d0b71df9c4",
   "metadata": {},
   "outputs": [],
   "source": [
    "grouped_image_df = src_image_df.groupby('Handle').agg(','.join)"
   ]
  },
  {
   "cell_type": "code",
   "execution_count": 15,
   "id": "4854ca91-ee27-4b05-8e4c-97b7622e4bb7",
   "metadata": {},
   "outputs": [],
   "source": [
    "grouped_image_df.reset_index(inplace=True)"
   ]
  },
  {
   "cell_type": "code",
   "execution_count": 16,
   "id": "410b3c9c-3738-433c-85a7-27e0776260e4",
   "metadata": {},
   "outputs": [
    {
     "data": {
      "text/html": [
       "<div>\n",
       "<style scoped>\n",
       "    .dataframe tbody tr th:only-of-type {\n",
       "        vertical-align: middle;\n",
       "    }\n",
       "\n",
       "    .dataframe tbody tr th {\n",
       "        vertical-align: top;\n",
       "    }\n",
       "\n",
       "    .dataframe thead th {\n",
       "        text-align: right;\n",
       "    }\n",
       "</style>\n",
       "<table border=\"1\" class=\"dataframe\">\n",
       "  <thead>\n",
       "    <tr style=\"text-align: right;\">\n",
       "      <th></th>\n",
       "      <th>Handle</th>\n",
       "      <th>Image Src</th>\n",
       "    </tr>\n",
       "  </thead>\n",
       "  <tbody>\n",
       "    <tr>\n",
       "      <th>0</th>\n",
       "      <td>10-piece-cutlery-set-sliver</td>\n",
       "      <td>https://cdn.shopify.com/s/files/1/0324/8268/91...</td>\n",
       "    </tr>\n",
       "    <tr>\n",
       "      <th>1</th>\n",
       "      <td>4-piece-cutlery-set-gold</td>\n",
       "      <td>https://cdn.shopify.com/s/files/1/0324/8268/91...</td>\n",
       "    </tr>\n",
       "    <tr>\n",
       "      <th>2</th>\n",
       "      <td>4-piece-dipping-bowls</td>\n",
       "      <td>https://cdn.shopify.com/s/files/1/0324/8268/91...</td>\n",
       "    </tr>\n",
       "    <tr>\n",
       "      <th>3</th>\n",
       "      <td>4-piece-of-plates</td>\n",
       "      <td>https://cdn.shopify.com/s/files/1/0324/8268/91...</td>\n",
       "    </tr>\n",
       "    <tr>\n",
       "      <th>4</th>\n",
       "      <td>4-piece-wooden-cutlery-set</td>\n",
       "      <td>https://cdn.shopify.com/s/files/1/0324/8268/91...</td>\n",
       "    </tr>\n",
       "    <tr>\n",
       "      <th>...</th>\n",
       "      <td>...</td>\n",
       "      <td>...</td>\n",
       "    </tr>\n",
       "    <tr>\n",
       "      <th>1286</th>\n",
       "      <td>yedda-dining-chair</td>\n",
       "      <td>https://cdn.shopify.com/s/files/1/0324/8268/91...</td>\n",
       "    </tr>\n",
       "    <tr>\n",
       "      <th>1287</th>\n",
       "      <td>yetta-three-seater-sofa-three-seater-corner-so...</td>\n",
       "      <td>https://cdn.shopify.com/s/files/1/0324/8268/91...</td>\n",
       "    </tr>\n",
       "    <tr>\n",
       "      <th>1288</th>\n",
       "      <td>yl24-mirror</td>\n",
       "      <td>https://cdn.shopify.com/s/files/1/0324/8268/91...</td>\n",
       "    </tr>\n",
       "    <tr>\n",
       "      <th>1289</th>\n",
       "      <td>yo91-bath-mat-more-patterns-available</td>\n",
       "      <td>https://cdn.shopify.com/s/files/1/0324/8268/91...</td>\n",
       "    </tr>\n",
       "    <tr>\n",
       "      <th>1290</th>\n",
       "      <td>zh10-salad-bowl-glassware</td>\n",
       "      <td>https://cdn.shopify.com/s/files/1/0324/8268/91...</td>\n",
       "    </tr>\n",
       "  </tbody>\n",
       "</table>\n",
       "<p>1291 rows × 2 columns</p>\n",
       "</div>"
      ],
      "text/plain": [
       "                                                 Handle  \\\n",
       "0                           10-piece-cutlery-set-sliver   \n",
       "1                              4-piece-cutlery-set-gold   \n",
       "2                                 4-piece-dipping-bowls   \n",
       "3                                     4-piece-of-plates   \n",
       "4                            4-piece-wooden-cutlery-set   \n",
       "...                                                 ...   \n",
       "1286                                 yedda-dining-chair   \n",
       "1287  yetta-three-seater-sofa-three-seater-corner-so...   \n",
       "1288                                        yl24-mirror   \n",
       "1289              yo91-bath-mat-more-patterns-available   \n",
       "1290                          zh10-salad-bowl-glassware   \n",
       "\n",
       "                                              Image Src  \n",
       "0     https://cdn.shopify.com/s/files/1/0324/8268/91...  \n",
       "1     https://cdn.shopify.com/s/files/1/0324/8268/91...  \n",
       "2     https://cdn.shopify.com/s/files/1/0324/8268/91...  \n",
       "3     https://cdn.shopify.com/s/files/1/0324/8268/91...  \n",
       "4     https://cdn.shopify.com/s/files/1/0324/8268/91...  \n",
       "...                                                 ...  \n",
       "1286  https://cdn.shopify.com/s/files/1/0324/8268/91...  \n",
       "1287  https://cdn.shopify.com/s/files/1/0324/8268/91...  \n",
       "1288  https://cdn.shopify.com/s/files/1/0324/8268/91...  \n",
       "1289  https://cdn.shopify.com/s/files/1/0324/8268/91...  \n",
       "1290  https://cdn.shopify.com/s/files/1/0324/8268/91...  \n",
       "\n",
       "[1291 rows x 2 columns]"
      ]
     },
     "execution_count": 16,
     "metadata": {},
     "output_type": "execute_result"
    }
   ],
   "source": [
    "grouped_image_df"
   ]
  },
  {
   "cell_type": "code",
   "execution_count": 17,
   "id": "02a87921-789f-4710-9121-2142f90d9d89",
   "metadata": {},
   "outputs": [
    {
     "data": {
      "text/plain": [
       "'https://cdn.shopify.com/s/files/1/0324/8268/9157/products/10-piece-cutlery-set-sliver-weilai-concept-weilai-concept.jpg?v=1676762975,https://cdn.shopify.com/s/files/1/0324/8268/9157/products/10-piece-cutlery-set-sliver-weilai-concept-weilai-concept-2.jpg?v=1676762976,https://cdn.shopify.com/s/files/1/0324/8268/9157/products/10-piece-cutlery-set-sliver-weilai-concept-weilai-concept-3.jpg?v=1676762978,https://cdn.shopify.com/s/files/1/0324/8268/9157/products/10-piece-cutlery-set-sliver-weilai-concept-weilai-concept-4.jpg?v=1676762980,https://cdn.shopify.com/s/files/1/0324/8268/9157/products/10-piece-cutlery-set-sliver-weilai-concept-weilai-concept-5.jpg?v=1676762982,https://cdn.shopify.com/s/files/1/0324/8268/9157/products/10-piece-cutlery-set-sliver-weilai-concept-weilai-concept-6.jpg?v=1676762983,https://cdn.shopify.com/s/files/1/0324/8268/9157/products/10-piece-cutlery-set-sliver-weilai-concept-weilai-concept-7.jpg?v=1676762985,https://cdn.shopify.com/s/files/1/0324/8268/9157/products/10-piece-cutlery-set-sliver-weilai-concept-weilai-concept-8.jpg?v=1676762986,https://cdn.shopify.com/s/files/1/0324/8268/9157/products/10-piece-cutlery-set-sliver-weilai-concept-weilai-concept-9.jpg?v=1676762988,https://cdn.shopify.com/s/files/1/0324/8268/9157/products/10-piece-cutlery-set-sliver-weilai-concept-weilai-concept-10.jpg?v=1676762989,https://cdn.shopify.com/s/files/1/0324/8268/9157/products/10-piece-cutlery-set-sliver-weilai-concept-weilai-concept-11.jpg?v=1676762991,https://cdn.shopify.com/s/files/1/0324/8268/9157/products/10-piece-cutlery-set-sliver-weilai-concept-weilai-concept-12.jpg?v=1676762993,https://cdn.shopify.com/s/files/1/0324/8268/9157/products/10-piece-cutlery-set-sliver-weilai-concept-weilai-concept-13.jpg?v=1676762994'"
      ]
     },
     "execution_count": 17,
     "metadata": {},
     "output_type": "execute_result"
    }
   ],
   "source": [
    "grouped_image_df.loc[0,'Image Src']"
   ]
  },
  {
   "cell_type": "markdown",
   "id": "12225484-5db8-4088-bee5-801388b48ca1",
   "metadata": {},
   "source": [
    "# Attribute Table for variable table"
   ]
  },
  {
   "cell_type": "code",
   "execution_count": 18,
   "id": "472b90ec-8ae7-4c7f-a317-1126e5d4b1da",
   "metadata": {},
   "outputs": [],
   "source": [
    "src_attr_1_df = src_df[src_df['Option1 Value'].notnull()][['Handle', 'Option1 Value']].copy()\n",
    "src_attr_1_df.drop_duplicates(subset=['Handle','Option1 Value'], keep='first', ignore_index=True, inplace=True)\n",
    "grouped_src_attr_1_df = src_attr_1_df.groupby('Handle').agg(','.join)\n",
    "grouped_src_attr_1_df.reset_index(inplace=True)"
   ]
  },
  {
   "cell_type": "code",
   "execution_count": 19,
   "id": "599aceb9-74db-4239-b408-a3405bf74771",
   "metadata": {},
   "outputs": [],
   "source": [
    "src_attr_2_df = src_df[src_df['Option2 Value'].notnull()][['Handle', 'Option2 Value']].copy()\n",
    "src_attr_2_df.drop_duplicates(subset=['Handle','Option2 Value'], keep='first', ignore_index=True, inplace=True)\n",
    "grouped_src_attr_2_df = src_attr_2_df.groupby('Handle').agg(','.join)\n",
    "# grouped_src_attr_2_df.reset_index(inplace=True)"
   ]
  },
  {
   "cell_type": "code",
   "execution_count": 20,
   "id": "0bda8ef1-760b-46c6-a800-323176d869d3",
   "metadata": {},
   "outputs": [],
   "source": [
    "src_attr_3_df = src_df[src_df['Option3 Value'].notnull()][['Handle', 'Option3 Value']].copy()\n",
    "src_attr_3_df.drop_duplicates(subset=['Handle','Option3 Value'], keep='first', ignore_index=True, inplace=True)\n",
    "grouped_src_attr_3_df = src_attr_3_df.groupby('Handle').agg(','.join)\n",
    "grouped_src_attr_3_df.reset_index(inplace=True)"
   ]
  },
  {
   "cell_type": "code",
   "execution_count": 21,
   "id": "aaf05801-0fd3-480b-9815-6db3d2a8346a",
   "metadata": {},
   "outputs": [],
   "source": [
    "attr_df = grouped_src_attr_1_df.merge(grouped_src_attr_2_df, on='Handle', how='left')"
   ]
  },
  {
   "cell_type": "code",
   "execution_count": 22,
   "id": "f89342ad-c253-44c5-a40c-3429fe3b431c",
   "metadata": {},
   "outputs": [],
   "source": [
    "attr_df = attr_df.merge(grouped_src_attr_3_df, on='Handle', how='left')"
   ]
  },
  {
   "cell_type": "code",
   "execution_count": 23,
   "id": "d3f3db1b-64d1-47cd-9e7c-1899e4e73d00",
   "metadata": {},
   "outputs": [],
   "source": [
    "attr_df.rename({'Option1 Value':'Attribute 1 value(s)', 'Option2 Value':'Attribute 2 value(s)', 'Option3 Value':'Attribute 3 value(s)'}, inplace=True, axis=1)"
   ]
  },
  {
   "cell_type": "markdown",
   "id": "12d0420e-e10b-4279-96f1-1d970055d02b",
   "metadata": {},
   "source": [
    "# Attribute Name Table"
   ]
  },
  {
   "cell_type": "code",
   "execution_count": 24,
   "id": "5cbcc435-dace-4adf-99c5-358cf1d8f19e",
   "metadata": {},
   "outputs": [],
   "source": [
    "attr_name_df = src_product_var_df[src_product_var_df['Option1 Value'].notnull()][['Handle', 'Option1 Name', 'Option2 Name', 'Option3 Name']].copy()"
   ]
  },
  {
   "cell_type": "code",
   "execution_count": 25,
   "id": "8d187204-95f2-4a5f-8469-331f24e7fbc4",
   "metadata": {},
   "outputs": [],
   "source": [
    "attr_name_df.fillna('', inplace=True)"
   ]
  },
  {
   "cell_type": "code",
   "execution_count": 26,
   "id": "a1ad4511-3895-4756-80f9-0799d0ce7354",
   "metadata": {},
   "outputs": [],
   "source": [
    "attr_name_df.rename({'Option1 Name':'Attribute 1 name', 'Option2 Name':'Attribute 2 name', 'Option3 Name':'Attribute 3 name'}, inplace=True, axis=1)"
   ]
  },
  {
   "cell_type": "code",
   "execution_count": 27,
   "id": "e4abf1e3-d13a-42e3-82dd-6354a4bc2820",
   "metadata": {},
   "outputs": [
    {
     "data": {
      "text/html": [
       "<div>\n",
       "<style scoped>\n",
       "    .dataframe tbody tr th:only-of-type {\n",
       "        vertical-align: middle;\n",
       "    }\n",
       "\n",
       "    .dataframe tbody tr th {\n",
       "        vertical-align: top;\n",
       "    }\n",
       "\n",
       "    .dataframe thead th {\n",
       "        text-align: right;\n",
       "    }\n",
       "</style>\n",
       "<table border=\"1\" class=\"dataframe\">\n",
       "  <thead>\n",
       "    <tr style=\"text-align: right;\">\n",
       "      <th></th>\n",
       "      <th>Handle</th>\n",
       "      <th>Attribute 1 name</th>\n",
       "      <th>Attribute 2 name</th>\n",
       "      <th>Attribute 3 name</th>\n",
       "    </tr>\n",
       "  </thead>\n",
       "  <tbody>\n",
       "    <tr>\n",
       "      <th>0</th>\n",
       "      <td>welby-three-seater-sofa-white-boucle-half-of-sofa</td>\n",
       "      <td>Title</td>\n",
       "      <td></td>\n",
       "      <td></td>\n",
       "    </tr>\n",
       "    <tr>\n",
       "      <th>1</th>\n",
       "      <td>jarrod-three-seater-corner-sofa-300cm-right-ha...</td>\n",
       "      <td>Color &amp; Size</td>\n",
       "      <td></td>\n",
       "      <td></td>\n",
       "    </tr>\n",
       "    <tr>\n",
       "      <th>2</th>\n",
       "      <td>piper-sideboard-wood</td>\n",
       "      <td>Size</td>\n",
       "      <td></td>\n",
       "      <td></td>\n",
       "    </tr>\n",
       "    <tr>\n",
       "      <th>3</th>\n",
       "      <td>mila-sideboard-white</td>\n",
       "      <td>Size</td>\n",
       "      <td></td>\n",
       "      <td></td>\n",
       "    </tr>\n",
       "    <tr>\n",
       "      <th>4</th>\n",
       "      <td>camila-sideboard-black</td>\n",
       "      <td>Size</td>\n",
       "      <td></td>\n",
       "      <td></td>\n",
       "    </tr>\n",
       "    <tr>\n",
       "      <th>...</th>\n",
       "      <td>...</td>\n",
       "      <td>...</td>\n",
       "      <td>...</td>\n",
       "      <td>...</td>\n",
       "    </tr>\n",
       "    <tr>\n",
       "      <th>1286</th>\n",
       "      <td>tandy-dressing-table-green-white-black-and-gol...</td>\n",
       "      <td>Color</td>\n",
       "      <td>With Stool</td>\n",
       "      <td></td>\n",
       "    </tr>\n",
       "    <tr>\n",
       "      <th>1287</th>\n",
       "      <td>pet-bowl-tray-pink-or-blue</td>\n",
       "      <td>Color</td>\n",
       "      <td></td>\n",
       "      <td></td>\n",
       "    </tr>\n",
       "    <tr>\n",
       "      <th>1288</th>\n",
       "      <td>j51-bar-set</td>\n",
       "      <td>Title</td>\n",
       "      <td></td>\n",
       "      <td></td>\n",
       "    </tr>\n",
       "    <tr>\n",
       "      <th>1289</th>\n",
       "      <td>accordion-double-bed</td>\n",
       "      <td>Width</td>\n",
       "      <td></td>\n",
       "      <td></td>\n",
       "    </tr>\n",
       "    <tr>\n",
       "      <th>1290</th>\n",
       "      <td>accordion-single-bed</td>\n",
       "      <td>Width</td>\n",
       "      <td></td>\n",
       "      <td></td>\n",
       "    </tr>\n",
       "  </tbody>\n",
       "</table>\n",
       "<p>1291 rows × 4 columns</p>\n",
       "</div>"
      ],
      "text/plain": [
       "                                                 Handle Attribute 1 name  \\\n",
       "0     welby-three-seater-sofa-white-boucle-half-of-sofa            Title   \n",
       "1     jarrod-three-seater-corner-sofa-300cm-right-ha...     Color & Size   \n",
       "2                                  piper-sideboard-wood             Size   \n",
       "3                                  mila-sideboard-white             Size   \n",
       "4                                camila-sideboard-black             Size   \n",
       "...                                                 ...              ...   \n",
       "1286  tandy-dressing-table-green-white-black-and-gol...            Color   \n",
       "1287                         pet-bowl-tray-pink-or-blue            Color   \n",
       "1288                                        j51-bar-set            Title   \n",
       "1289                               accordion-double-bed            Width   \n",
       "1290                               accordion-single-bed            Width   \n",
       "\n",
       "     Attribute 2 name Attribute 3 name  \n",
       "0                                       \n",
       "1                                       \n",
       "2                                       \n",
       "3                                       \n",
       "4                                       \n",
       "...               ...              ...  \n",
       "1286       With Stool                   \n",
       "1287                                    \n",
       "1288                                    \n",
       "1289                                    \n",
       "1290                                    \n",
       "\n",
       "[1291 rows x 4 columns]"
      ]
     },
     "execution_count": 27,
     "metadata": {},
     "output_type": "execute_result"
    }
   ],
   "source": [
    "attr_name_df"
   ]
  },
  {
   "cell_type": "code",
   "execution_count": 199,
   "id": "2aada280-2a42-4b22-b3b9-f64660a9af80",
   "metadata": {},
   "outputs": [],
   "source": [
    "attr_col = list(attr_name_df['Attribute 1 name'])"
   ]
  },
  {
   "cell_type": "code",
   "execution_count": 200,
   "id": "4b4c4e48-d920-4d83-be0a-3f934ba9dd7e",
   "metadata": {},
   "outputs": [],
   "source": [
    "attr_col.extend(list(attr_name_df['Attribute 2 name']))"
   ]
  },
  {
   "cell_type": "code",
   "execution_count": 201,
   "id": "37b85ce1-9596-4195-a3b6-cb92a5b93cc3",
   "metadata": {},
   "outputs": [],
   "source": [
    "attr_col.extend(list(attr_name_df['Attribute 3 name']))"
   ]
  },
  {
   "cell_type": "code",
   "execution_count": 214,
   "id": "8e540f60-2917-4186-b94b-bf4545b03908",
   "metadata": {},
   "outputs": [],
   "source": [
    "attr_col_set.remove('')"
   ]
  },
  {
   "cell_type": "code",
   "execution_count": 212,
   "id": "bc934eb0-8fb2-480b-aa4f-1dc9209c9c3b",
   "metadata": {},
   "outputs": [],
   "source": [
    "attr_col_set = set(attr_col)"
   ]
  },
  {
   "cell_type": "code",
   "execution_count": 215,
   "id": "9253d3f8-997a-4ad8-ae1b-d0dcc8adf49f",
   "metadata": {},
   "outputs": [
    {
     "data": {
      "text/plain": [
       "{'Add Drawer',\n",
       " 'Amount of Chair',\n",
       " 'Animal',\n",
       " 'Base Colour',\n",
       " 'Chair',\n",
       " 'Chair Option',\n",
       " 'Chair Quantity',\n",
       " 'Chair/ Table',\n",
       " 'Chairs',\n",
       " 'Chaise side',\n",
       " 'Coffee Table',\n",
       " 'Coffee Table & TV Stand',\n",
       " 'Coffee Table or TV Stand',\n",
       " 'Coffee Table/ TV Stand',\n",
       " 'Color',\n",
       " 'Color & Size',\n",
       " 'Color ( Minimum Purchase QTY for each color is 2 )',\n",
       " 'Color ( Minimum Purchase QTY is 2 )',\n",
       " 'Color ( Minimum Purchase QTY is 2 Pcs. )',\n",
       " 'Color (Legs)',\n",
       " 'Color (Table Top)',\n",
       " 'Color Combination',\n",
       " 'Color Option',\n",
       " 'Color of Cushion',\n",
       " 'Colour',\n",
       " 'Colour of Cushion',\n",
       " 'Combinaion',\n",
       " 'Combination',\n",
       " 'Corner Direction',\n",
       " 'Corner Facing',\n",
       " 'Corner Orientation',\n",
       " 'Cushion Color',\n",
       " 'Cushion Pattern',\n",
       " 'Depth',\n",
       " 'Design',\n",
       " 'Desk Top',\n",
       " 'Dining Chairs',\n",
       " 'Door',\n",
       " 'Draw Color',\n",
       " 'Exterior Wood Color',\n",
       " 'Fabric Color',\n",
       " 'First Item Size',\n",
       " 'Frame',\n",
       " 'Glass Top Color',\n",
       " 'Handrail Direction',\n",
       " 'Height',\n",
       " 'Item Option',\n",
       " 'Leaf Color',\n",
       " 'Leather',\n",
       " 'Leather Colour',\n",
       " 'Leg',\n",
       " 'Leg Color',\n",
       " 'Length & Height',\n",
       " 'Marble Color',\n",
       " 'Marble Length',\n",
       " 'Marble Top',\n",
       " 'Material',\n",
       " 'Mirror Option',\n",
       " 'O/ U Shape',\n",
       " 'Office Desk',\n",
       " 'Ottoman',\n",
       " 'Pattern',\n",
       " 'Pillow Colour',\n",
       " 'Product',\n",
       " 'QTY',\n",
       " 'Quantity',\n",
       " 'Rattan Color',\n",
       " 'Seat Pad',\n",
       " 'Set',\n",
       " 'Shape',\n",
       " 'Sideboard',\n",
       " 'Size',\n",
       " 'Size ( Colour dispatched Randomly )',\n",
       " 'Size ( Includes Armrests )',\n",
       " 'Size For Coffee Table',\n",
       " 'Size of Table',\n",
       " 'Size( Includes Armrests )',\n",
       " 'Stool',\n",
       " 'Style',\n",
       " 'Style ( Minimum Purchase QTY is 2 Pcs. )',\n",
       " 'Style of Table Top',\n",
       " 'Styple ( Minimum Purchase QTY is 2 )',\n",
       " 'TV Stand',\n",
       " 'TV Stand Style',\n",
       " 'Table',\n",
       " 'Table Base Color',\n",
       " 'Table Frame',\n",
       " 'Table Size',\n",
       " 'Table Top',\n",
       " 'Table Top Color',\n",
       " 'Table Top Texture',\n",
       " 'Table set with chairs',\n",
       " 'Texture',\n",
       " 'Title',\n",
       " 'Top',\n",
       " 'Type',\n",
       " 'Version 1/ Version 2',\n",
       " 'WIth Stool',\n",
       " 'Water Proof Cover',\n",
       " 'Weight',\n",
       " 'Width',\n",
       " 'With Armrest',\n",
       " 'With Aviator Office Chair',\n",
       " 'With Cabinet',\n",
       " 'With Chair',\n",
       " 'With Chairs',\n",
       " 'With Chiar',\n",
       " 'With Coffee Table',\n",
       " 'With Cover',\n",
       " 'With Dining Chair',\n",
       " 'With Dining Chair 1/ 2',\n",
       " 'With Dining Chairs',\n",
       " 'With Extra Drawer',\n",
       " 'With Footstool',\n",
       " 'With Light',\n",
       " 'With Mirror',\n",
       " 'With Ottoman',\n",
       " 'With Seat Cushion',\n",
       " 'With Side Storage',\n",
       " 'With Side Table & Extra Light',\n",
       " 'With Sideboard',\n",
       " 'With Stool',\n",
       " 'With TV Stand',\n",
       " 'With Top Storage',\n",
       " 'With USB',\n",
       " 'With chairs',\n",
       " 'With sideboard',\n",
       " 'With/ Without Footstool',\n",
       " 'With/ Without Light',\n",
       " 'Wood',\n",
       " 'Wood Oak',\n",
       " 'color'}"
      ]
     },
     "execution_count": 215,
     "metadata": {},
     "output_type": "execute_result"
    }
   ],
   "source": [
    "attr_col_set"
   ]
  },
  {
   "cell_type": "markdown",
   "id": "c4be0c37-a560-4849-892d-dc25d49a7c66",
   "metadata": {},
   "source": [
    "# Product Variable Table"
   ]
  },
  {
   "cell_type": "code",
   "execution_count": 28,
   "id": "c60c9078-9bbe-4ea9-883f-cbe61944d519",
   "metadata": {},
   "outputs": [],
   "source": [
    "tgt_df = tgt_df.iloc[0:0].copy()"
   ]
  },
  {
   "cell_type": "code",
   "execution_count": 29,
   "id": "6c20ddf1-5eeb-4db9-911c-95c1b5cc7df5",
   "metadata": {},
   "outputs": [],
   "source": [
    "tgt_df['Handle'] = src_product_var_df['Handle']"
   ]
  },
  {
   "cell_type": "code",
   "execution_count": 30,
   "id": "f4732462-cf70-4429-bb95-aacb8f4aadeb",
   "metadata": {},
   "outputs": [],
   "source": [
    "tgt_df['Name'] = src_product_var_df['Title']"
   ]
  },
  {
   "cell_type": "code",
   "execution_count": 31,
   "id": "4fb91004-f847-42c0-9d6e-89246ac1f476",
   "metadata": {},
   "outputs": [],
   "source": [
    "tgt_df['ID'] = '01' + (tgt_df.index + 1).astype(str).str.zfill(5)"
   ]
  },
  {
   "cell_type": "code",
   "execution_count": 32,
   "id": "934a9e2e-8d28-4911-aea5-18286925ece7",
   "metadata": {},
   "outputs": [],
   "source": [
    "tgt_df['Type'] = 'variable'"
   ]
  },
  {
   "cell_type": "code",
   "execution_count": 33,
   "id": "cfef96cd-4f11-41fd-8e24-da630c8aa907",
   "metadata": {},
   "outputs": [],
   "source": [
    "tgt_df['SKU'] = tgt_df['ID'].copy() + '-P'"
   ]
  },
  {
   "cell_type": "code",
   "execution_count": 34,
   "id": "6c5564b5-d94d-4af3-b30c-ed6152c75279",
   "metadata": {},
   "outputs": [],
   "source": [
    "tgt_df['Published'] = 1"
   ]
  },
  {
   "cell_type": "code",
   "execution_count": 35,
   "id": "d9e9dc80-cc1f-4a94-992f-ce5eba1acb7b",
   "metadata": {},
   "outputs": [],
   "source": [
    "tgt_df['Is featured?'] = 1"
   ]
  },
  {
   "cell_type": "code",
   "execution_count": 36,
   "id": "883a0da3-daa2-4f5b-9535-6aef37c063da",
   "metadata": {},
   "outputs": [],
   "source": [
    "tgt_df['Visibility in catalog'] = 'visible'"
   ]
  },
  {
   "cell_type": "code",
   "execution_count": 37,
   "id": "1c53d0d7-d86c-4e34-b058-109bfacc2e62",
   "metadata": {},
   "outputs": [],
   "source": [
    "tgt_df['Short description'] = src_product_var_df['SEO Description']"
   ]
  },
  {
   "cell_type": "code",
   "execution_count": 38,
   "id": "1b229569-6b1f-4a72-96f2-43174744e117",
   "metadata": {},
   "outputs": [],
   "source": [
    "tgt_df['Description'] = src_product_var_df['Body (HTML)'] "
   ]
  },
  {
   "cell_type": "code",
   "execution_count": 39,
   "id": "a9bdc5a4-1a4d-40f1-8cc4-41c6b53d007f",
   "metadata": {},
   "outputs": [],
   "source": [
    "tgt_df['Date sale price starts'] = ''"
   ]
  },
  {
   "cell_type": "code",
   "execution_count": 40,
   "id": "820e4e5d-6edc-4715-91cc-25383704bf9c",
   "metadata": {},
   "outputs": [],
   "source": [
    "tgt_df['Date sale price ends'] = ''"
   ]
  },
  {
   "cell_type": "code",
   "execution_count": 41,
   "id": "d67b6d27-d02b-44a4-bafa-bec3a88e00b9",
   "metadata": {},
   "outputs": [],
   "source": [
    "tax_mapping = {True: 'taxable', False: 'none'}\n",
    "tgt_df['Tax status'] = src_product_var_df['Variant Taxable'].replace(tax_mapping)"
   ]
  },
  {
   "cell_type": "code",
   "execution_count": 42,
   "id": "0c5a52aa-0124-4f81-af7d-614958cfc944",
   "metadata": {},
   "outputs": [],
   "source": [
    "tgt_df['Tax class'] = 'standard'"
   ]
  },
  {
   "cell_type": "code",
   "execution_count": 43,
   "id": "a6c512e1-189c-4fe1-bcdc-9d7213741698",
   "metadata": {},
   "outputs": [],
   "source": [
    "tgt_df['In stock?'] = 1"
   ]
  },
  {
   "cell_type": "code",
   "execution_count": 44,
   "id": "f8dddfcb-455a-4069-9899-f4f5c084a0c8",
   "metadata": {},
   "outputs": [],
   "source": [
    "tgt_df['Stock'] = src_product_var_df['Variant Inventory Qty']"
   ]
  },
  {
   "cell_type": "code",
   "execution_count": 45,
   "id": "daa60eea-4c25-4886-9358-853d385ed868",
   "metadata": {},
   "outputs": [],
   "source": [
    "tgt_df['Low stock amount'] = 5"
   ]
  },
  {
   "cell_type": "code",
   "execution_count": 46,
   "id": "7d60a30a-5a1e-4349-9e44-f93fa5c1146d",
   "metadata": {},
   "outputs": [],
   "source": [
    "tgt_df['Backorders allowed?'] = 'notify'"
   ]
  },
  {
   "cell_type": "code",
   "execution_count": 47,
   "id": "86efeb67-54d9-4bc5-a2c5-71144ea9e187",
   "metadata": {},
   "outputs": [],
   "source": [
    "tgt_df['Sold individually?'] = 1"
   ]
  },
  {
   "cell_type": "code",
   "execution_count": 48,
   "id": "ef827af9-48fe-4802-a267-21ad4fa9154e",
   "metadata": {},
   "outputs": [],
   "source": [
    "tgt_df['Weight (g)'] = src_product_var_df['Variant Grams']"
   ]
  },
  {
   "cell_type": "code",
   "execution_count": 49,
   "id": "d11b9197-1b12-49f3-b108-6e3cf5b287aa",
   "metadata": {},
   "outputs": [],
   "source": [
    "tgt_df['Length (cm)'] = 1"
   ]
  },
  {
   "cell_type": "code",
   "execution_count": 50,
   "id": "e99e16a0-016f-4cd9-8f64-754ab4127a3d",
   "metadata": {},
   "outputs": [],
   "source": [
    "tgt_df['Width (cm)'] = 1"
   ]
  },
  {
   "cell_type": "code",
   "execution_count": 51,
   "id": "becaac01-59d9-479d-aff5-c0acbf0983d2",
   "metadata": {},
   "outputs": [],
   "source": [
    "tgt_df['Height (cm)'] = 1"
   ]
  },
  {
   "cell_type": "code",
   "execution_count": 52,
   "id": "d6d09d1a-79c9-47cb-b41e-c90f6b4e2183",
   "metadata": {},
   "outputs": [],
   "source": [
    "tgt_df['Allow customer reviews?'] = 1"
   ]
  },
  {
   "cell_type": "code",
   "execution_count": 53,
   "id": "5607b38d-cf4c-4ca2-89e0-4711e9723b65",
   "metadata": {},
   "outputs": [],
   "source": [
    "tgt_df['Purchase note'] = 'Thanks for buying'"
   ]
  },
  {
   "cell_type": "code",
   "execution_count": 54,
   "id": "dba61809-8605-4e8c-abff-0acacbdfb789",
   "metadata": {},
   "outputs": [],
   "source": [
    "tgt_df['Sale price'] = ''"
   ]
  },
  {
   "cell_type": "code",
   "execution_count": 55,
   "id": "07feea8e-e3f7-485a-8af3-47a9fa2508e5",
   "metadata": {},
   "outputs": [],
   "source": [
    "tgt_df['Regular price'] = src_product_var_df['Variant Price']"
   ]
  },
  {
   "cell_type": "code",
   "execution_count": 56,
   "id": "4d52c3e4-7e39-4db8-9738-416d2a672d86",
   "metadata": {},
   "outputs": [],
   "source": [
    "tgt_df['Categories'] = src_product_var_df['Product Category']"
   ]
  },
  {
   "cell_type": "code",
   "execution_count": 57,
   "id": "30b3c1d4-145d-4c77-9a08-7eef988abab0",
   "metadata": {},
   "outputs": [],
   "source": [
    "tgt_df['Tags'] = src_product_var_df['Tags']"
   ]
  },
  {
   "cell_type": "code",
   "execution_count": 58,
   "id": "7f3af804-dc60-4798-a10e-87fda08ce41c",
   "metadata": {},
   "outputs": [],
   "source": [
    "tgt_df['Shipping class'] = ''"
   ]
  },
  {
   "cell_type": "code",
   "execution_count": 59,
   "id": "1f8865e7-a43d-4c68-b432-9e72c6b624e8",
   "metadata": {},
   "outputs": [],
   "source": [
    "tgt_df.drop('Images', axis=1, inplace=True)\n",
    "tgt_df = pd.merge(tgt_df, grouped_image_df, how='left', on='Handle')\n",
    "tgt_df.rename(columns={'Image Src':'Images'}, inplace=True)"
   ]
  },
  {
   "cell_type": "code",
   "execution_count": 60,
   "id": "85573aee-8352-44fc-8dc9-f0ccee74d955",
   "metadata": {},
   "outputs": [],
   "source": [
    "tgt_df['Download limit'] = ''"
   ]
  },
  {
   "cell_type": "code",
   "execution_count": 61,
   "id": "cf681fe8-8517-4a1f-94b7-6f5e97364369",
   "metadata": {},
   "outputs": [],
   "source": [
    "tgt_df['Download expiry days'] = ''"
   ]
  },
  {
   "cell_type": "code",
   "execution_count": 62,
   "id": "fd610643-35c9-40fa-82eb-8ee49f909d02",
   "metadata": {},
   "outputs": [],
   "source": [
    "tgt_df['Parent'] = ''"
   ]
  },
  {
   "cell_type": "code",
   "execution_count": 63,
   "id": "1f14d728-dfad-4c4b-9d15-4ea7666d0f2d",
   "metadata": {},
   "outputs": [],
   "source": [
    "tgt_df['Grouped products'] = ''"
   ]
  },
  {
   "cell_type": "code",
   "execution_count": 64,
   "id": "e119dd91-386d-417c-a894-da9e8bebc7cd",
   "metadata": {},
   "outputs": [],
   "source": [
    "tgt_df['Upsells'] = ''"
   ]
  },
  {
   "cell_type": "code",
   "execution_count": 65,
   "id": "efff6bda-2c69-494b-ad15-93bfbc15cd6e",
   "metadata": {},
   "outputs": [],
   "source": [
    "tgt_df['Cross-sells'] = ''"
   ]
  },
  {
   "cell_type": "code",
   "execution_count": 66,
   "id": "6f63ae48-eec7-4e0a-be0a-4d9be831fc98",
   "metadata": {},
   "outputs": [],
   "source": [
    "tgt_df['External URL'] = ''"
   ]
  },
  {
   "cell_type": "code",
   "execution_count": 67,
   "id": "317ca504-44b0-4990-9896-b6fba57dcbe5",
   "metadata": {},
   "outputs": [],
   "source": [
    "tgt_df['Button text'] = 'Buy Now'"
   ]
  },
  {
   "cell_type": "code",
   "execution_count": 68,
   "id": "08fd3e7b-145e-4d4b-ab29-c6ea789fec94",
   "metadata": {},
   "outputs": [],
   "source": [
    "tgt_df['Position'] = 1"
   ]
  },
  {
   "cell_type": "code",
   "execution_count": 69,
   "id": "0ba16c43-6da5-4204-b139-fa3db0f7e5e1",
   "metadata": {},
   "outputs": [],
   "source": [
    "tgt_df.drop(columns='Swatches Attributes', axis=1, inplace=True)\n",
    "tgt_df['Attribute 1 name'] = src_product_var_df['Option1 Name']\n",
    "tgt_df['Attribute 2 name'] = src_product_var_df['Option2 Name']\n",
    "tgt_df['Attribute 3 name'] = src_product_var_df['Option3 Name']"
   ]
  },
  {
   "cell_type": "code",
   "execution_count": 70,
   "id": "58841876-a946-4940-9c30-c751ae5b23f7",
   "metadata": {},
   "outputs": [],
   "source": [
    "tgt_df = pd.merge(tgt_df, attr_df, how='left', on='Handle')"
   ]
  },
  {
   "cell_type": "code",
   "execution_count": 71,
   "id": "59171072-f69f-4e86-8c81-9cda66079a24",
   "metadata": {},
   "outputs": [],
   "source": [
    "tgt_df['Attribute 1 default'] = ''\n",
    "tgt_df['Attribute 2 default'] = ''\n",
    "tgt_df['Attribute 3 default'] = ''"
   ]
  },
  {
   "cell_type": "code",
   "execution_count": 72,
   "id": "d2918577-e781-4811-a1a3-c48ed7b33df3",
   "metadata": {},
   "outputs": [],
   "source": [
    "tgt_df['Attribute 1 visible'] = 1\n",
    "tgt_df['Attribute 2 visible'] = 1\n",
    "tgt_df['Attribute 3 visible'] = 1"
   ]
  },
  {
   "cell_type": "code",
   "execution_count": 73,
   "id": "6bd64253-21b5-4e9a-af69-37499adfb51d",
   "metadata": {},
   "outputs": [],
   "source": [
    "tgt_df['Attribute 1 global'] = 1\n",
    "tgt_df['Attribute 2 global'] = 1\n",
    "tgt_df['Attribute 3 global'] = 1"
   ]
  },
  {
   "cell_type": "code",
   "execution_count": 74,
   "id": "56d7d9ae-5a0e-413d-80f7-29fba8ce29b4",
   "metadata": {},
   "outputs": [],
   "source": [
    "tgt_df['Download 1 name'] = ''"
   ]
  },
  {
   "cell_type": "code",
   "execution_count": 75,
   "id": "8d4a8376-33f1-485d-bb43-e792065eacc8",
   "metadata": {},
   "outputs": [],
   "source": [
    "tgt_df['Download 1 URL'] = '' "
   ]
  },
  {
   "cell_type": "code",
   "execution_count": 76,
   "id": "e9ebc5ab-5107-498b-85db-5fd06c62255d",
   "metadata": {},
   "outputs": [],
   "source": [
    "tgt_df['Meta: woostify_product_video_metabox'] = ''"
   ]
  },
  {
   "cell_type": "code",
   "execution_count": 77,
   "id": "e1208887-d831-4f80-aafa-2e316b23f358",
   "metadata": {},
   "outputs": [],
   "source": [
    "half_index = round(len(tgt_df) / 2)"
   ]
  },
  {
   "cell_type": "code",
   "execution_count": 78,
   "id": "536ace5f-95c3-4841-b27e-1de982551beb",
   "metadata": {},
   "outputs": [],
   "source": [
    "tgt_df.loc[0:half_index-1].to_csv('variable_table_woocommerce_part1.csv', index=False)\n",
    "tgt_df.loc[half_index:].to_csv('variable_table_woocommerce_part2.csv', index=False)"
   ]
  },
  {
   "cell_type": "markdown",
   "id": "b5e758fd-f22b-4850-b548-4bdb91601b82",
   "metadata": {},
   "source": [
    "# Product Variation Table"
   ]
  },
  {
   "cell_type": "code",
   "execution_count": null,
   "id": "dcaeee1c-2055-4312-bdce-f2327e383fc1",
   "metadata": {},
   "outputs": [],
   "source": [
    "def "
   ]
  },
  {
   "cell_type": "code",
   "execution_count": 79,
   "id": "0b6cd5f2-e68e-450b-83d3-c7cd633641bb",
   "metadata": {},
   "outputs": [],
   "source": [
    "var_df = tgt_df[0:0].copy()"
   ]
  },
  {
   "cell_type": "code",
   "execution_count": 80,
   "id": "d81232c5-2c32-4c2f-9dcb-080b321ca675",
   "metadata": {},
   "outputs": [],
   "source": [
    "var_df['Handle'] = src_product_variation_df['Handle']"
   ]
  },
  {
   "cell_type": "code",
   "execution_count": 81,
   "id": "6b8274d2-f656-4f9b-a735-dcd1cea57214",
   "metadata": {},
   "outputs": [],
   "source": [
    "var_df['Name'] = ''"
   ]
  },
  {
   "cell_type": "code",
   "execution_count": 82,
   "id": "ca3ec215-10ca-46b7-9889-ad7aff318b78",
   "metadata": {},
   "outputs": [],
   "source": [
    "var_df['Type'] = 'variation'"
   ]
  },
  {
   "cell_type": "code",
   "execution_count": 83,
   "id": "ccaf34f1-dfb6-43fe-bb71-bec109e137fc",
   "metadata": {},
   "outputs": [],
   "source": [
    "var_df['Published'] = ''"
   ]
  },
  {
   "cell_type": "code",
   "execution_count": 84,
   "id": "97b2c1bb-ce5f-4eb2-9866-3490f59f57cb",
   "metadata": {},
   "outputs": [],
   "source": [
    "var_df['Is featured?'] = ''"
   ]
  },
  {
   "cell_type": "code",
   "execution_count": 85,
   "id": "76ac58c5-4cc1-46cd-b5e6-d072bbbdadf7",
   "metadata": {},
   "outputs": [],
   "source": [
    "var_df['Visibility in catalog'] = ''"
   ]
  },
  {
   "cell_type": "code",
   "execution_count": 86,
   "id": "456be5ee-172f-4f9e-aa53-0a3462468746",
   "metadata": {},
   "outputs": [],
   "source": [
    "var_df['Short description'] = ''"
   ]
  },
  {
   "cell_type": "code",
   "execution_count": 87,
   "id": "94c45ae9-cf5b-4f7d-85e5-7d00f5492005",
   "metadata": {},
   "outputs": [],
   "source": [
    "var_df['Description'] = ''"
   ]
  },
  {
   "cell_type": "code",
   "execution_count": 88,
   "id": "4e8f0155-a542-4216-9f6a-10799991b9d3",
   "metadata": {},
   "outputs": [],
   "source": [
    "var_df['Date sale price starts'] = ''"
   ]
  },
  {
   "cell_type": "code",
   "execution_count": 89,
   "id": "953e872f-8341-4655-bbdc-63893201385b",
   "metadata": {},
   "outputs": [],
   "source": [
    "var_df['Date sale price ends'] = ''"
   ]
  },
  {
   "cell_type": "code",
   "execution_count": 90,
   "id": "e3c264ca-2215-4ed7-8b0f-f51207f93574",
   "metadata": {},
   "outputs": [],
   "source": [
    "tax_mapping = {True: 'taxable', False: 'none'}\n",
    "var_df['Tax status'] = src_product_variation_df['Variant Taxable'].replace(tax_mapping)"
   ]
  },
  {
   "cell_type": "code",
   "execution_count": 91,
   "id": "acbf7b85-0393-42f3-92e7-f9a731fd37c2",
   "metadata": {},
   "outputs": [],
   "source": [
    "var_df['Tax class'] = ''"
   ]
  },
  {
   "cell_type": "code",
   "execution_count": 92,
   "id": "af30bd5a-93eb-4823-8832-b244a7854d1f",
   "metadata": {},
   "outputs": [],
   "source": [
    "var_df['In stock?'] = ''"
   ]
  },
  {
   "cell_type": "code",
   "execution_count": 93,
   "id": "d92a4ae2-98a2-467c-855c-dedccb3b3a34",
   "metadata": {},
   "outputs": [],
   "source": [
    "var_df['Stock'] = src_product_variation_df['Variant Inventory Qty']"
   ]
  },
  {
   "cell_type": "code",
   "execution_count": 94,
   "id": "bac08cd7-d21d-418d-bc2f-0cd94c53d562",
   "metadata": {},
   "outputs": [],
   "source": [
    "var_df['Low stock amount'] = 5"
   ]
  },
  {
   "cell_type": "code",
   "execution_count": 95,
   "id": "a70f3050-41ed-45ff-97ef-972e48b1654b",
   "metadata": {},
   "outputs": [],
   "source": [
    "var_df['Backorders allowed?'] = 'notify'"
   ]
  },
  {
   "cell_type": "code",
   "execution_count": 96,
   "id": "5d2bd64c-f101-4f06-b9b0-dcf37f041f3d",
   "metadata": {},
   "outputs": [],
   "source": [
    "var_df['Sold individually?'] = 1"
   ]
  },
  {
   "cell_type": "code",
   "execution_count": 97,
   "id": "1eeb71be-ea6a-4abe-b6d3-a3abc8daf0e6",
   "metadata": {},
   "outputs": [],
   "source": [
    "var_df['Weight (g)'] = src_product_variation_df['Variant Grams']"
   ]
  },
  {
   "cell_type": "code",
   "execution_count": 98,
   "id": "32ee7662-be1a-46db-9784-22f7a091849d",
   "metadata": {},
   "outputs": [],
   "source": [
    "var_df['Length (cm)'] = 1"
   ]
  },
  {
   "cell_type": "code",
   "execution_count": 99,
   "id": "063c318e-9eca-4d4c-9714-fe70d961bee6",
   "metadata": {},
   "outputs": [],
   "source": [
    "var_df['Width (cm)'] = 1"
   ]
  },
  {
   "cell_type": "code",
   "execution_count": 100,
   "id": "9c2343d2-1060-4768-bfb0-b30a63e5b814",
   "metadata": {},
   "outputs": [],
   "source": [
    "var_df['Height (cm)'] = 1"
   ]
  },
  {
   "cell_type": "code",
   "execution_count": 101,
   "id": "df1afc51-3376-42f3-8992-baa7cc8c3422",
   "metadata": {},
   "outputs": [],
   "source": [
    "var_df['Allow customer reviews?'] = 1"
   ]
  },
  {
   "cell_type": "code",
   "execution_count": 102,
   "id": "7e09f5e7-572b-4446-ac2f-db77874bc348",
   "metadata": {},
   "outputs": [],
   "source": [
    "var_df['Purchase note'] = 'Thanks for buying'"
   ]
  },
  {
   "cell_type": "code",
   "execution_count": 103,
   "id": "79e8826c-5037-4ec5-84a5-1ddc8d8cd762",
   "metadata": {},
   "outputs": [],
   "source": [
    "var_df['Sale price'] = ''"
   ]
  },
  {
   "cell_type": "code",
   "execution_count": 104,
   "id": "673262d5-7f55-45ae-b833-e6c723f93e2e",
   "metadata": {},
   "outputs": [],
   "source": [
    "var_df['Regular price'] = src_product_variation_df['Variant Price']"
   ]
  },
  {
   "cell_type": "code",
   "execution_count": 105,
   "id": "29f3bfa1-919c-41bd-ba63-075b207daa19",
   "metadata": {},
   "outputs": [],
   "source": [
    "var_df['Categories'] = src_product_variation_df['Product Category']"
   ]
  },
  {
   "cell_type": "code",
   "execution_count": 106,
   "id": "32878a2e-ecea-4dd7-9584-ba1c8f46c098",
   "metadata": {},
   "outputs": [],
   "source": [
    "var_df['Tags'] = src_product_variation_df['Tags']"
   ]
  },
  {
   "cell_type": "code",
   "execution_count": 107,
   "id": "7c94c713-0818-468f-9200-097a38f3f44b",
   "metadata": {},
   "outputs": [],
   "source": [
    "var_df['Shipping class'] = ''"
   ]
  },
  {
   "cell_type": "code",
   "execution_count": 108,
   "id": "d5e67892-8156-4ea8-aa85-76dc64e14ec8",
   "metadata": {},
   "outputs": [],
   "source": [
    "var_df['Images'] = src_product_variation_df['Image Src']"
   ]
  },
  {
   "cell_type": "code",
   "execution_count": 109,
   "id": "03a01e8e-c91d-47ce-adc6-648a609d68ec",
   "metadata": {},
   "outputs": [],
   "source": [
    "var_df['Download limit'] = ''"
   ]
  },
  {
   "cell_type": "code",
   "execution_count": 110,
   "id": "41438948-0caf-4103-99af-f16a18f4b088",
   "metadata": {},
   "outputs": [],
   "source": [
    "var_df['Download expiry days'] = ''"
   ]
  },
  {
   "cell_type": "code",
   "execution_count": 111,
   "id": "2f5c46c4-6d5d-4ebf-9581-7a0b760b3ffe",
   "metadata": {},
   "outputs": [],
   "source": [
    "var_df['Grouped products'] = ''"
   ]
  },
  {
   "cell_type": "code",
   "execution_count": 112,
   "id": "4cdd97d7-d33e-4925-a25a-9ec4cd9982f8",
   "metadata": {},
   "outputs": [],
   "source": [
    "var_df['Upsells'] = ''"
   ]
  },
  {
   "cell_type": "code",
   "execution_count": 113,
   "id": "862725d9-d300-487a-9318-4544eb639e61",
   "metadata": {},
   "outputs": [],
   "source": [
    "var_df['Cross-sells'] = ''"
   ]
  },
  {
   "cell_type": "code",
   "execution_count": 114,
   "id": "8a01a6f0-2a9a-42c0-a339-667c193db66e",
   "metadata": {},
   "outputs": [],
   "source": [
    "var_df['External URL'] = ''"
   ]
  },
  {
   "cell_type": "code",
   "execution_count": 115,
   "id": "b170364d-9797-4c3a-80e7-778f601fb862",
   "metadata": {},
   "outputs": [],
   "source": [
    "var_df['Button text'] = 'Buy Now'"
   ]
  },
  {
   "cell_type": "code",
   "execution_count": 116,
   "id": "70b28a1b-8766-470a-ab89-8d88560a45dd",
   "metadata": {},
   "outputs": [],
   "source": [
    "var_df['Position'] = 1"
   ]
  },
  {
   "cell_type": "code",
   "execution_count": 117,
   "id": "e712f14c-7564-4590-b748-0bd0aad943a4",
   "metadata": {},
   "outputs": [],
   "source": [
    "var_df.drop(columns=['Attribute 1 name', 'Attribute 2 name', 'Attribute 3 name'], inplace=True)"
   ]
  },
  {
   "cell_type": "code",
   "execution_count": 118,
   "id": "d522cdd1-3f3b-4631-a992-6c58208e9e4d",
   "metadata": {},
   "outputs": [],
   "source": [
    "var_df = pd.merge(var_df, attr_name_df, how='left', on='Handle')"
   ]
  },
  {
   "cell_type": "code",
   "execution_count": 119,
   "id": "ca9db0a8-4eb1-4391-a0fb-89c8fafc4f39",
   "metadata": {},
   "outputs": [],
   "source": [
    "var_df['Attribute 1 value(s)'] = src_product_variation_df['Option1 Value']\n",
    "var_df['Attribute 2 value(s)'] = src_product_variation_df['Option2 Value']\n",
    "var_df['Attribute 3 value(s)'] = src_product_variation_df['Option3 Value']"
   ]
  },
  {
   "cell_type": "code",
   "execution_count": 120,
   "id": "01366fd7-910d-4d7c-b0c6-77a1cdb6e109",
   "metadata": {},
   "outputs": [],
   "source": [
    "var_df['Attribute 1 default'] = ''\n",
    "var_df['Attribute 2 default'] = ''\n",
    "var_df['Attribute 3 default'] = ''"
   ]
  },
  {
   "cell_type": "code",
   "execution_count": 121,
   "id": "2054ca0d-0361-4ba7-bbe2-2b08580ce966",
   "metadata": {},
   "outputs": [],
   "source": [
    "var_df['Attribute 1 visible'] = 1\n",
    "var_df['Attribute 2 visible'] = 1\n",
    "var_df['Attribute 3 visible'] = 1"
   ]
  },
  {
   "cell_type": "code",
   "execution_count": 122,
   "id": "382e51f3-854e-4660-a458-900c0108a37f",
   "metadata": {},
   "outputs": [],
   "source": [
    "var_df['Attribute 1 global'] = 1\n",
    "var_df['Attribute 2 global'] = 1\n",
    "var_df['Attribute 3 global'] = 1"
   ]
  },
  {
   "cell_type": "code",
   "execution_count": 123,
   "id": "c1dee01d-a808-4344-a942-337752c2b007",
   "metadata": {},
   "outputs": [],
   "source": [
    "var_df['Download 1 name'] = ''"
   ]
  },
  {
   "cell_type": "code",
   "execution_count": 124,
   "id": "be7335e8-f2ef-4e22-b33f-a42be934e8cd",
   "metadata": {},
   "outputs": [],
   "source": [
    "var_df['Download 1 URL'] = '' "
   ]
  },
  {
   "cell_type": "code",
   "execution_count": 125,
   "id": "e23da150-3d5b-4317-9751-b1f260e6bf0e",
   "metadata": {},
   "outputs": [],
   "source": [
    "var_df = pd.merge(var_df, tgt_df[['Handle','ID']], how='left', on='Handle')\n",
    "var_df.rename(columns={'ID_y': 'Parent_ID'}, inplace=True)\n",
    "var_df['ID_x'] = '02' + (var_df.index + 1).astype(str).str.zfill(5)\n",
    "var_df.rename(columns={'ID_x': 'ID'}, inplace=True)"
   ]
  },
  {
   "cell_type": "code",
   "execution_count": 126,
   "id": "d42993dd-8601-4c01-9d38-bb946c77959c",
   "metadata": {},
   "outputs": [],
   "source": [
    "var_df['SKU'] = var_df['ID'].astype(str) + '-' + var_df['Attribute 1 value(s)'].fillna('none').astype(str) + '-' + var_df['Attribute 2 value(s)'].fillna('none').astype(str) + '-' + var_df['Attribute 3 value(s)'].fillna('none').astype(str)"
   ]
  },
  {
   "cell_type": "code",
   "execution_count": 127,
   "id": "4d8848d9-8646-4393-aa02-7cb71255f864",
   "metadata": {},
   "outputs": [],
   "source": [
    "var_df['Parent'] = var_df['Parent_ID'].apply(lambda x: str(x) + '-P')"
   ]
  },
  {
   "cell_type": "code",
   "execution_count": 128,
   "id": "11b60aa8-bc29-4d57-9e4e-e28083fd2295",
   "metadata": {},
   "outputs": [],
   "source": [
    "var_df.drop(columns='Parent_ID', inplace=True)"
   ]
  },
  {
   "cell_type": "code",
   "execution_count": 129,
   "id": "dc33861c-d6d9-4c44-accf-d844ef98d473",
   "metadata": {},
   "outputs": [
    {
     "data": {
      "text/html": [
       "<div>\n",
       "<style scoped>\n",
       "    .dataframe tbody tr th:only-of-type {\n",
       "        vertical-align: middle;\n",
       "    }\n",
       "\n",
       "    .dataframe tbody tr th {\n",
       "        vertical-align: top;\n",
       "    }\n",
       "\n",
       "    .dataframe thead th {\n",
       "        text-align: right;\n",
       "    }\n",
       "</style>\n",
       "<table border=\"1\" class=\"dataframe\">\n",
       "  <thead>\n",
       "    <tr style=\"text-align: right;\">\n",
       "      <th></th>\n",
       "      <th>ID</th>\n",
       "      <th>Parent</th>\n",
       "      <th>SKU</th>\n",
       "      <th>Attribute 1 value(s)</th>\n",
       "    </tr>\n",
       "  </thead>\n",
       "  <tbody>\n",
       "    <tr>\n",
       "      <th>0</th>\n",
       "      <td>0200001</td>\n",
       "      <td>0100003-P</td>\n",
       "      <td>0200001-100cm-none-none</td>\n",
       "      <td>100cm</td>\n",
       "    </tr>\n",
       "    <tr>\n",
       "      <th>1</th>\n",
       "      <td>0200002</td>\n",
       "      <td>0100003-P</td>\n",
       "      <td>0200002-120cm-none-none</td>\n",
       "      <td>120cm</td>\n",
       "    </tr>\n",
       "    <tr>\n",
       "      <th>2</th>\n",
       "      <td>0200003</td>\n",
       "      <td>0100003-P</td>\n",
       "      <td>0200003-140cm-none-none</td>\n",
       "      <td>140cm</td>\n",
       "    </tr>\n",
       "    <tr>\n",
       "      <th>3</th>\n",
       "      <td>0200004</td>\n",
       "      <td>0100003-P</td>\n",
       "      <td>0200004-158cm-none-none</td>\n",
       "      <td>158cm</td>\n",
       "    </tr>\n",
       "    <tr>\n",
       "      <th>4</th>\n",
       "      <td>0200005</td>\n",
       "      <td>0100004-P</td>\n",
       "      <td>0200005-120cm-none-none</td>\n",
       "      <td>120cm</td>\n",
       "    </tr>\n",
       "    <tr>\n",
       "      <th>...</th>\n",
       "      <td>...</td>\n",
       "      <td>...</td>\n",
       "      <td>...</td>\n",
       "      <td>...</td>\n",
       "    </tr>\n",
       "    <tr>\n",
       "      <th>4821</th>\n",
       "      <td>0204822</td>\n",
       "      <td>0101287-P</td>\n",
       "      <td>0204822-Black-No Stool-none</td>\n",
       "      <td>Black</td>\n",
       "    </tr>\n",
       "    <tr>\n",
       "      <th>4822</th>\n",
       "      <td>0204823</td>\n",
       "      <td>0101287-P</td>\n",
       "      <td>0204823-Black-With Stool-none</td>\n",
       "      <td>Black</td>\n",
       "    </tr>\n",
       "    <tr>\n",
       "      <th>4823</th>\n",
       "      <td>0204824</td>\n",
       "      <td>0101288-P</td>\n",
       "      <td>0204824-Blue-none-none</td>\n",
       "      <td>Blue</td>\n",
       "    </tr>\n",
       "    <tr>\n",
       "      <th>4824</th>\n",
       "      <td>0204825</td>\n",
       "      <td>0101290-P</td>\n",
       "      <td>0204825-150cm-none-none</td>\n",
       "      <td>150cm</td>\n",
       "    </tr>\n",
       "    <tr>\n",
       "      <th>4825</th>\n",
       "      <td>0204826</td>\n",
       "      <td>0101291-P</td>\n",
       "      <td>0204826-90cm-none-none</td>\n",
       "      <td>90cm</td>\n",
       "    </tr>\n",
       "  </tbody>\n",
       "</table>\n",
       "<p>4826 rows × 4 columns</p>\n",
       "</div>"
      ],
      "text/plain": [
       "           ID     Parent                            SKU Attribute 1 value(s)\n",
       "0     0200001  0100003-P        0200001-100cm-none-none                100cm\n",
       "1     0200002  0100003-P        0200002-120cm-none-none                120cm\n",
       "2     0200003  0100003-P        0200003-140cm-none-none                140cm\n",
       "3     0200004  0100003-P        0200004-158cm-none-none                158cm\n",
       "4     0200005  0100004-P        0200005-120cm-none-none                120cm\n",
       "...       ...        ...                            ...                  ...\n",
       "4821  0204822  0101287-P    0204822-Black-No Stool-none                Black\n",
       "4822  0204823  0101287-P  0204823-Black-With Stool-none                Black\n",
       "4823  0204824  0101288-P         0204824-Blue-none-none                 Blue\n",
       "4824  0204825  0101290-P        0204825-150cm-none-none                150cm\n",
       "4825  0204826  0101291-P         0204826-90cm-none-none                 90cm\n",
       "\n",
       "[4826 rows x 4 columns]"
      ]
     },
     "execution_count": 129,
     "metadata": {},
     "output_type": "execute_result"
    }
   ],
   "source": [
    "var_df[var_df['SKU'].notnull()][['ID', 'Parent', 'SKU', 'Attribute 1 value(s)']]"
   ]
  },
  {
   "cell_type": "code",
   "execution_count": 130,
   "id": "8e9d7645-a6cc-4d84-acfb-c7308e1c9b68",
   "metadata": {},
   "outputs": [],
   "source": [
    "var_df['Meta: woostify_product_video_metabox'] = ''"
   ]
  },
  {
   "cell_type": "code",
   "execution_count": 131,
   "id": "44ac38ab-6886-4111-a4f9-d4f9700108e1",
   "metadata": {},
   "outputs": [],
   "source": [
    "half_index = round(len(var_df) / 2)"
   ]
  },
  {
   "cell_type": "code",
   "execution_count": 132,
   "id": "70c022a7-94af-4905-94a6-5eebf15de44f",
   "metadata": {},
   "outputs": [],
   "source": [
    "var_df.loc[0:half_index-1].to_csv('variation_table_woocommerce_part1.csv', index=False)\n",
    "var_df.loc[half_index:].to_csv('variation_table_woocommerce_part2.csv', index=False)"
   ]
  },
  {
   "cell_type": "code",
   "execution_count": 133,
   "id": "143772ac-5cf9-4f59-a0a4-a0816102d6b5",
   "metadata": {},
   "outputs": [
    {
     "name": "stdout",
     "output_type": "stream",
     "text": [
      "<class 'pandas.core.frame.DataFrame'>\n",
      "RangeIndex: 4826 entries, 0 to 4825\n",
      "Data columns (total 58 columns):\n",
      " #   Column                                Non-Null Count  Dtype  \n",
      "---  ------                                --------------  -----  \n",
      " 0   ID                                    4826 non-null   object \n",
      " 1   Type                                  4826 non-null   object \n",
      " 2   SKU                                   4826 non-null   object \n",
      " 3   Name                                  4826 non-null   object \n",
      " 4   Published                             4826 non-null   object \n",
      " 5   Is featured?                          4826 non-null   object \n",
      " 6   Visibility in catalog                 4826 non-null   object \n",
      " 7   Short description                     4826 non-null   object \n",
      " 8   Description                           4826 non-null   object \n",
      " 9   Date sale price starts                4826 non-null   object \n",
      " 10  Date sale price ends                  4826 non-null   object \n",
      " 11  Tax status                            4826 non-null   object \n",
      " 12  Tax class                             4826 non-null   object \n",
      " 13  In stock?                             4826 non-null   object \n",
      " 14  Stock                                 4826 non-null   float64\n",
      " 15  Low stock amount                      4826 non-null   int64  \n",
      " 16  Backorders allowed?                   4826 non-null   object \n",
      " 17  Sold individually?                    4826 non-null   int64  \n",
      " 18  Weight (g)                            4826 non-null   float64\n",
      " 19  Length (cm)                           4826 non-null   int64  \n",
      " 20  Width (cm)                            4826 non-null   int64  \n",
      " 21  Height (cm)                           4826 non-null   int64  \n",
      " 22  Allow customer reviews?               4826 non-null   int64  \n",
      " 23  Purchase note                         4826 non-null   object \n",
      " 24  Sale price                            4826 non-null   object \n",
      " 25  Regular price                         4826 non-null   float64\n",
      " 26  Categories                            0 non-null      object \n",
      " 27  Tags                                  0 non-null      object \n",
      " 28  Shipping class                        4826 non-null   object \n",
      " 29  Download limit                        4826 non-null   object \n",
      " 30  Download expiry days                  4826 non-null   object \n",
      " 31  Parent                                4826 non-null   object \n",
      " 32  Grouped products                      4826 non-null   object \n",
      " 33  Upsells                               4826 non-null   object \n",
      " 34  Cross-sells                           4826 non-null   object \n",
      " 35  External URL                          4826 non-null   object \n",
      " 36  Button text                           4826 non-null   object \n",
      " 37  Position                              4826 non-null   int64  \n",
      " 38  Meta: woostify_product_video_metabox  4826 non-null   object \n",
      " 39  Handle                                4826 non-null   object \n",
      " 40  Images                                2976 non-null   object \n",
      " 41  Attribute 1 value(s)                  4826 non-null   object \n",
      " 42  Attribute 2 value(s)                  3418 non-null   object \n",
      " 43  Attribute 3 value(s)                  874 non-null    object \n",
      " 44  Attribute 1 default                   4826 non-null   object \n",
      " 45  Attribute 2 default                   4826 non-null   object \n",
      " 46  Attribute 3 default                   4826 non-null   object \n",
      " 47  Attribute 1 visible                   4826 non-null   int64  \n",
      " 48  Attribute 2 visible                   4826 non-null   int64  \n",
      " 49  Attribute 3 visible                   4826 non-null   int64  \n",
      " 50  Attribute 1 global                    4826 non-null   int64  \n",
      " 51  Attribute 2 global                    4826 non-null   int64  \n",
      " 52  Attribute 3 global                    4826 non-null   int64  \n",
      " 53  Download 1 name                       4826 non-null   object \n",
      " 54  Download 1 URL                        4826 non-null   object \n",
      " 55  Attribute 1 name                      4823 non-null   object \n",
      " 56  Attribute 2 name                      4823 non-null   object \n",
      " 57  Attribute 3 name                      4823 non-null   object \n",
      "dtypes: float64(3), int64(13), object(42)\n",
      "memory usage: 2.1+ MB\n"
     ]
    }
   ],
   "source": [
    "var_df.info()"
   ]
  },
  {
   "cell_type": "code",
   "execution_count": null,
   "id": "ca0f13a0-f9a5-40f7-b6d8-2ae75b650af2",
   "metadata": {},
   "outputs": [],
   "source": []
  }
 ],
 "metadata": {
  "kernelspec": {
   "display_name": "data_preproccessing",
   "language": "python",
   "name": "data_preproccessing"
  },
  "language_info": {
   "codemirror_mode": {
    "name": "ipython",
    "version": 3
   },
   "file_extension": ".py",
   "mimetype": "text/x-python",
   "name": "python",
   "nbconvert_exporter": "python",
   "pygments_lexer": "ipython3",
   "version": "3.11.3"
  }
 },
 "nbformat": 4,
 "nbformat_minor": 5
}
